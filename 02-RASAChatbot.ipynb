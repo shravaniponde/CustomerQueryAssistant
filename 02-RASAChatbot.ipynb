{
 "cells": [
  {
   "cell_type": "code",
   "execution_count": 1,
   "metadata": {},
   "outputs": [],
   "source": [
    "# rasa nlu\n",
    "from rasa_nlu.training_data import load_data\n",
    "from rasa_nlu.config import RasaNLUModelConfig\n",
    "from rasa_nlu.model import Trainer\n",
    "from rasa_nlu import config\n",
    "from rasa_nlu.model import Metadata, Interpreter"
   ]
  },
  {
   "cell_type": "code",
   "execution_count": 2,
   "metadata": {},
   "outputs": [],
   "source": [
    "# Functions #------------\n",
    "def train (data, config_file, model_dir):\n",
    "    training_data = load_data(data)\n",
    "    trainer = Trainer(config.load(config_file))\n",
    "    trainer.train(training_data)\n",
    "    model_directory = trainer.persist(model_dir, fixed_model_name = 'chat')"
   ]
  },
  {
   "cell_type": "code",
   "execution_count": 3,
   "metadata": {},
   "outputs": [],
   "source": [
    "#!python -m rasa_nlu.test \\\n",
    "#    --data nlu_data.json \\\n",
    "#    --config nlu_config.yml \\\n",
    "#    --model models/nlu/default/chat \\\n",
    "#    --mode evaluation"
   ]
  },
  {
   "cell_type": "code",
   "execution_count": 4,
   "metadata": {},
   "outputs": [
    {
     "name": "stderr",
     "output_type": "stream",
     "text": [
      "C:\\Anaconda Installations\\AC\\lib\\site-packages\\h5py\\__init__.py:36: FutureWarning: Conversion of the second argument of issubdtype from `float` to `np.floating` is deprecated. In future, it will be treated as `np.float64 == np.dtype(float).type`.\n",
      "  from ._conv import register_converters as _register_converters\n"
     ]
    },
    {
     "name": "stdout",
     "output_type": "stream",
     "text": [
      "Fitting 2 folds for each of 6 candidates, totalling 12 fits\n"
     ]
    },
    {
     "name": "stderr",
     "output_type": "stream",
     "text": [
      "[Parallel(n_jobs=1)]: Using backend SequentialBackend with 1 concurrent workers.\n",
      "C:\\Anaconda Installations\\AC\\lib\\site-packages\\sklearn\\metrics\\classification.py:1143: UndefinedMetricWarning: F-score is ill-defined and being set to 0.0 in labels with no predicted samples.\n",
      "  'precision', 'predicted', average, warn_for)\n",
      "C:\\Anaconda Installations\\AC\\lib\\site-packages\\sklearn\\metrics\\classification.py:1143: UndefinedMetricWarning: F-score is ill-defined and being set to 0.0 in labels with no predicted samples.\n",
      "  'precision', 'predicted', average, warn_for)\n",
      "C:\\Anaconda Installations\\AC\\lib\\site-packages\\sklearn\\metrics\\classification.py:1143: UndefinedMetricWarning: F-score is ill-defined and being set to 0.0 in labels with no predicted samples.\n",
      "  'precision', 'predicted', average, warn_for)\n",
      "C:\\Anaconda Installations\\AC\\lib\\site-packages\\sklearn\\metrics\\classification.py:1143: UndefinedMetricWarning: F-score is ill-defined and being set to 0.0 in labels with no predicted samples.\n",
      "  'precision', 'predicted', average, warn_for)\n",
      "C:\\Anaconda Installations\\AC\\lib\\site-packages\\sklearn\\metrics\\classification.py:1143: UndefinedMetricWarning: F-score is ill-defined and being set to 0.0 in labels with no predicted samples.\n",
      "  'precision', 'predicted', average, warn_for)\n",
      "C:\\Anaconda Installations\\AC\\lib\\site-packages\\sklearn\\metrics\\classification.py:1143: UndefinedMetricWarning: F-score is ill-defined and being set to 0.0 in labels with no predicted samples.\n",
      "  'precision', 'predicted', average, warn_for)\n",
      "[Parallel(n_jobs=1)]: Done  12 out of  12 | elapsed:    1.3s finished\n"
     ]
    }
   ],
   "source": [
    "# Training\n",
    "#------------\n",
    "train('nlu_data.json', 'nlu_config.yml', 'models/nlu')"
   ]
  },
  {
   "cell_type": "code",
   "execution_count": 5,
   "metadata": {},
   "outputs": [],
   "source": [
    "# loading the interpreter \n",
    "interpreter = Interpreter.load('./models/nlu/default/chat')\n",
    "\n",
    "# define function to ask question\n",
    "def ask_question(text):\n",
    "    print(interpreter.parse(text))"
   ]
  },
  {
   "cell_type": "code",
   "execution_count": 6,
   "metadata": {},
   "outputs": [
    {
     "name": "stdout",
     "output_type": "stream",
     "text": [
      "{'intent': {'name': 'greet', 'confidence': 0.39561158040148703}, 'entities': [], 'intent_ranking': [{'name': 'greet', 'confidence': 0.39561158040148703}, {'name': 'affirm', 'confidence': 0.15112420830186318}, {'name': 'goodbye', 'confidence': 0.06396347894449664}, {'name': 'aadhar_update', 'confidence': 0.04416060722008347}, {'name': 'aadhar_update_time', 'confidence': 0.03357875613279805}, {'name': 'lost_card_reuse', 'confidence': 0.031929308604551634}, {'name': 'lost_card', 'confidence': 0.027700442975908818}, {'name': 'new_cheque_book', 'confidence': 0.027513546659135593}, {'name': 'stolen_card_reuse', 'confidence': 0.026074463364065374}, {'name': 'new_credit_card_elg', 'confidence': 0.0248871561272039}], 'text': 'Hello'}\n"
     ]
    }
   ],
   "source": [
    "# asking question\n",
    "ask_question(\"Hello\")"
   ]
  },
  {
   "cell_type": "code",
   "execution_count": 7,
   "metadata": {},
   "outputs": [
    {
     "name": "stdout",
     "output_type": "stream",
     "text": [
      "{'intent': {'name': 'greet', 'confidence': 0.37889964597846515}, 'entities': [], 'intent_ranking': [{'name': 'greet', 'confidence': 0.37889964597846515}, {'name': 'affirm', 'confidence': 0.1451817241674102}, {'name': 'goodbye', 'confidence': 0.10903461071898231}, {'name': 'deny', 'confidence': 0.08474957620136109}, {'name': 'min_balance', 'confidence': 0.02744820466388098}, {'name': 'lost_card', 'confidence': 0.02529647676277809}, {'name': 'lost_card_reuse', 'confidence': 0.021510588303349735}, {'name': 'aadhar_update_time', 'confidence': 0.01899056017085856}, {'name': 'stolen_card_reuse', 'confidence': 0.01838304177810943}, {'name': 'new_credit_card_elg', 'confidence': 0.016516675565279672}], 'text': 'hey there'}\n"
     ]
    }
   ],
   "source": [
    "# asking question\n",
    "ask_question(\"hey there\")"
   ]
  },
  {
   "cell_type": "code",
   "execution_count": 8,
   "metadata": {},
   "outputs": [
    {
     "name": "stdout",
     "output_type": "stream",
     "text": [
      "{'intent': {'name': 'lost_card', 'confidence': 0.4732732759219989}, 'entities': [], 'intent_ranking': [{'name': 'lost_card', 'confidence': 0.4732732759219989}, {'name': 'lost_card_reuse', 'confidence': 0.06170718405440944}, {'name': 'stolen_card', 'confidence': 0.05253600880044372}, {'name': 'withdraw', 'confidence': 0.044074692039718893}, {'name': 'damaged_card', 'confidence': 0.04318935048076492}, {'name': 'cash_withdrawl_limit', 'confidence': 0.036989657092257724}, {'name': 'cash_withdrawl', 'confidence': 0.029974925171825668}, {'name': 'stolen_card_reuse', 'confidence': 0.023877627072228742}, {'name': 'new_credit_card_elg', 'confidence': 0.02231946397597497}, {'name': 'new_credit_card', 'confidence': 0.020439393114663477}], 'text': 'What should I do my credit card is lost'}\n"
     ]
    }
   ],
   "source": [
    "# asking question\n",
    "ask_question(\"What should I do my credit card is lost\")"
   ]
  },
  {
   "cell_type": "code",
   "execution_count": 9,
   "metadata": {},
   "outputs": [
    {
     "name": "stdout",
     "output_type": "stream",
     "text": [
      "{'intent': {'name': 'withdraw', 'confidence': 0.6559182063859799}, 'entities': [], 'intent_ranking': [{'name': 'withdraw', 'confidence': 0.6559182063859799}, {'name': 'cash_withdrawl', 'confidence': 0.045951717040296235}, {'name': 'lost_card', 'confidence': 0.032027277482090805}, {'name': 'lost_card_reuse', 'confidence': 0.027772138784429506}, {'name': 'cash_withdrawl_limit', 'confidence': 0.023513559385485876}, {'name': 'cash_withdrawl_charges', 'confidence': 0.02191929990522664}, {'name': 'stolen_card', 'confidence': 0.02174598698195877}, {'name': 'damaged_card', 'confidence': 0.021548645478643616}, {'name': 'damaged_card_reuse', 'confidence': 0.02060254979956956}, {'name': 'stolen_card_reuse', 'confidence': 0.02033646918728312}], 'text': 'I want to terminate my credit card'}\n"
     ]
    }
   ],
   "source": [
    "# asking question\n",
    "ask_question(\"I want to terminate my credit card\")"
   ]
  },
  {
   "cell_type": "code",
   "execution_count": 10,
   "metadata": {},
   "outputs": [
    {
     "name": "stdout",
     "output_type": "stream",
     "text": [
      "{'intent': {'name': 'withdraw', 'confidence': 0.7001442368247686}, 'entities': [], 'intent_ranking': [{'name': 'withdraw', 'confidence': 0.7001442368247686}, {'name': 'cash_withdrawl', 'confidence': 0.044033456480561534}, {'name': 'cash_withdrawl_limit', 'confidence': 0.029383275195250844}, {'name': 'cash_withdrawl_charges', 'confidence': 0.02811245309715387}, {'name': 'lost_card', 'confidence': 0.020939796684267504}, {'name': 'lost_card_reuse', 'confidence': 0.020576314497267673}, {'name': 'stolen_card_reuse', 'confidence': 0.014945864208187224}, {'name': 'stolen_card', 'confidence': 0.013915515326178143}, {'name': 'new_credit_card', 'confidence': 0.01387407385070255}, {'name': 'damaged_card_reuse', 'confidence': 0.013271600485043542}], 'text': 'I want to withdraw my credit card'}\n"
     ]
    }
   ],
   "source": [
    "# asking question\n",
    "ask_question(\"I want to withdraw my credit card\")"
   ]
  },
  {
   "cell_type": "code",
   "execution_count": 11,
   "metadata": {},
   "outputs": [
    {
     "name": "stdout",
     "output_type": "stream",
     "text": [
      "{'intent': {'name': 'new_cheque_book', 'confidence': 0.7937238095524312}, 'entities': [], 'intent_ranking': [{'name': 'new_cheque_book', 'confidence': 0.7937238095524312}, {'name': 'cheque_book_cost', 'confidence': 0.01956326813726066}, {'name': 'new_credit_card', 'confidence': 0.018501767953028044}, {'name': 'new_credit_card_elg', 'confidence': 0.014192186572074456}, {'name': 'new_account', 'confidence': 0.013851864132757104}, {'name': 'goodbye', 'confidence': 0.013044845647729822}, {'name': 'aadhar_update_time', 'confidence': 0.011443161171229795}, {'name': 'new_credit_card_doc', 'confidence': 0.010649145442694097}, {'name': 'cash_withdrawl', 'confidence': 0.01047702197672193}, {'name': 'new_account_doc', 'confidence': 0.009530965296470042}], 'text': 'I want a new cheque book'}\n"
     ]
    }
   ],
   "source": [
    "# asking question\n",
    "ask_question(\"I want a new cheque book\")"
   ]
  },
  {
   "cell_type": "code",
   "execution_count": 12,
   "metadata": {},
   "outputs": [
    {
     "name": "stdout",
     "output_type": "stream",
     "text": [
      "{'intent': {'name': 'new_account_doc', 'confidence': 0.2163423552730487}, 'entities': [], 'intent_ranking': [{'name': 'new_account_doc', 'confidence': 0.2163423552730487}, {'name': 'cheque_book_cost', 'confidence': 0.14838501952314145}, {'name': 'new_account', 'confidence': 0.14166015704934756}, {'name': 'new_credit_card_doc', 'confidence': 0.06953204426988537}, {'name': 'new_credit_card_elg', 'confidence': 0.05014900421026003}, {'name': 'new_cheque_book', 'confidence': 0.04253635640168258}, {'name': 'min_balance', 'confidence': 0.04029418434313333}, {'name': 'min_balance_failure', 'confidence': 0.03699415456749201}, {'name': 'aadhar_update_time', 'confidence': 0.034079349215903894}, {'name': 'goodbye', 'confidence': 0.029812992134519618}], 'text': 'What dcouments are required for a new account'}\n"
     ]
    }
   ],
   "source": [
    "# asking question\n",
    "ask_question(\"What dcouments are required for a new account\")"
   ]
  },
  {
   "cell_type": "code",
   "execution_count": 13,
   "metadata": {},
   "outputs": [
    {
     "name": "stdout",
     "output_type": "stream",
     "text": [
      "{'intent': {'name': 'affirm', 'confidence': 0.4074675189092886}, 'entities': [], 'intent_ranking': [{'name': 'affirm', 'confidence': 0.4074675189092886}, {'name': 'deny', 'confidence': 0.21113433368931456}, {'name': 'greet', 'confidence': 0.12905765137463857}, {'name': 'goodbye', 'confidence': 0.05073979616451914}, {'name': 'lost_card_reuse', 'confidence': 0.02193382831112299}, {'name': 'lost_card', 'confidence': 0.019107830788741637}, {'name': 'stolen_card_reuse', 'confidence': 0.016045186918868384}, {'name': 'min_balance', 'confidence': 0.015117002804005665}, {'name': 'stolen_card', 'confidence': 0.014302257842615528}, {'name': 'new_credit_card_elg', 'confidence': 0.013392121861204693}], 'text': 'yes'}\n"
     ]
    }
   ],
   "source": [
    "# asking question\n",
    "ask_question(\"yes\")"
   ]
  },
  {
   "cell_type": "code",
   "execution_count": 14,
   "metadata": {},
   "outputs": [
    {
     "name": "stdout",
     "output_type": "stream",
     "text": [
      "{'intent': {'name': 'goodbye', 'confidence': 0.7747324316606874}, 'entities': [], 'intent_ranking': [{'name': 'goodbye', 'confidence': 0.7747324316606874}, {'name': 'affirm', 'confidence': 0.06396434889204863}, {'name': 'greet', 'confidence': 0.04494965089444349}, {'name': 'deny', 'confidence': 0.017711719711565672}, {'name': 'lost_card', 'confidence': 0.013719715444763456}, {'name': 'lost_card_reuse', 'confidence': 0.010648468897434794}, {'name': 'aadhar_update_time', 'confidence': 0.007780019825540409}, {'name': 'stolen_card_reuse', 'confidence': 0.005915036538700164}, {'name': 'new_credit_card_elg', 'confidence': 0.0052255994772754145}, {'name': 'withdraw', 'confidence': 0.005138810660993987}], 'text': 'bye'}\n",
      "{'intent': {'name': 'affirm', 'confidence': 0.4580212624219013}, 'entities': [], 'intent_ranking': [{'name': 'affirm', 'confidence': 0.4580212624219013}, {'name': 'goodbye', 'confidence': 0.14502806724827141}, {'name': 'greet', 'confidence': 0.12466286279520501}, {'name': 'deny', 'confidence': 0.031689487070806495}, {'name': 'new_credit_card_doc', 'confidence': 0.02120691690975583}, {'name': 'new_cheque_book', 'confidence': 0.021151217649903704}, {'name': 'cheque_book_cost', 'confidence': 0.020463327929275334}, {'name': 'lost_card_reuse', 'confidence': 0.019086203330669113}, {'name': 'aadhar_update_time', 'confidence': 0.01564106194754445}, {'name': 'lost_card', 'confidence': 0.015378073857567776}], 'text': 'thanks'}\n"
     ]
    }
   ],
   "source": [
    "# asking question\n",
    "ask_question(\"bye\")\n",
    "ask_question(\"thanks\")"
   ]
  },
  {
   "cell_type": "code",
   "execution_count": 15,
   "metadata": {},
   "outputs": [
    {
     "name": "stdout",
     "output_type": "stream",
     "text": [
      "{'intent': {'name': 'cash_withdrawl', 'confidence': 0.3259962197497737}, 'entities': [], 'intent_ranking': [{'name': 'cash_withdrawl', 'confidence': 0.3259962197497737}, {'name': 'cash_withdrawl_limit', 'confidence': 0.11941294543467987}, {'name': 'cash_withdrawl_charges', 'confidence': 0.08311812831317518}, {'name': 'min_balance_failure', 'confidence': 0.058303245201584065}, {'name': 'cheque_book_cost', 'confidence': 0.05774420936119027}, {'name': 'aadhar_update_time', 'confidence': 0.04322711217829551}, {'name': 'withdraw', 'confidence': 0.03828505149726159}, {'name': 'passbook', 'confidence': 0.03583515619003998}, {'name': 'aadhar_update', 'confidence': 0.024227805659446343}, {'name': 'new_cheque_book', 'confidence': 0.019153085693803126}], 'text': 'I want to withdraw cash'}\n"
     ]
    }
   ],
   "source": [
    "ask_question(\"I want to withdraw cash\")"
   ]
  },
  {
   "cell_type": "code",
   "execution_count": 16,
   "metadata": {},
   "outputs": [
    {
     "name": "stdout",
     "output_type": "stream",
     "text": [
      "{'intent': {'name': 'new_cheque_book', 'confidence': 0.7937238095524312}, 'entities': [], 'intent_ranking': [{'name': 'new_cheque_book', 'confidence': 0.7937238095524312}, {'name': 'cheque_book_cost', 'confidence': 0.01956326813726066}, {'name': 'new_credit_card', 'confidence': 0.018501767953028044}, {'name': 'new_credit_card_elg', 'confidence': 0.014192186572074456}, {'name': 'new_account', 'confidence': 0.013851864132757104}, {'name': 'goodbye', 'confidence': 0.013044845647729822}, {'name': 'aadhar_update_time', 'confidence': 0.011443161171229795}, {'name': 'new_credit_card_doc', 'confidence': 0.010649145442694097}, {'name': 'cash_withdrawl', 'confidence': 0.01047702197672193}, {'name': 'new_account_doc', 'confidence': 0.009530965296470042}], 'text': 'I want a new cheque book'}\n"
     ]
    }
   ],
   "source": [
    "ask_question(\"I want a new cheque book\")"
   ]
  },
  {
   "cell_type": "code",
   "execution_count": 17,
   "metadata": {},
   "outputs": [],
   "source": [
    "# Imports\n",
    "#-----------\n",
    "# rasa core\n",
    "import logging\n",
    "from rasa_core import training\n",
    "from rasa_core.actions import Action\n",
    "from rasa_core.domain import Domain\n",
    "from rasa_core.featurizers import MaxHistoryTrackerFeaturizer, BinarySingleStateFeaturizer\n",
    "#from rasa_core.channels.console import ConsoleInputChannel\n",
    "from rasa_core.interpreter import RegexInterpreter\n",
    "from rasa_core.interpreter import RasaNLUInterpreter"
   ]
  },
  {
   "cell_type": "code",
   "execution_count": 43,
   "metadata": {},
   "outputs": [
    {
     "name": "stderr",
     "output_type": "stream",
     "text": [
      "2019-05-25 02:51:15 DEBUG    rasa_core.training.generator  - Generated trackers will be deduplicated based on their unique last 5 states.\n",
      "2019-05-25 02:51:15 DEBUG    rasa_core.training.generator  - Number of augmentation rounds is 3\n",
      "2019-05-25 02:51:15 DEBUG    rasa_core.training.generator  - Starting data generation round 0 ... (with 1 trackers)\n",
      "Processed Story Blocks: 100%|██████████| 44/44 [00:00<00:00, 324.39it/s, # trackers=1]\n",
      "2019-05-25 02:51:15 DEBUG    rasa_core.training.generator  - Finished phase (44 training samples found).\n",
      "2019-05-25 02:51:15 DEBUG    rasa_core.training.generator  - Data generation rounds finished.\n",
      "2019-05-25 02:51:15 DEBUG    rasa_core.training.generator  - Found 0 unused checkpoints\n",
      "2019-05-25 02:51:15 DEBUG    rasa_core.training.generator  - Starting augmentation round 0 ... (with 20 trackers)\n",
      "Processed Story Blocks: 100%|██████████| 44/44 [00:00<00:00, 95.49it/s, # trackers=20]\n",
      "2019-05-25 02:51:16 DEBUG    rasa_core.training.generator  - Finished phase (924 training samples found).\n",
      "2019-05-25 02:51:16 DEBUG    rasa_core.training.generator  - Starting augmentation round 1 ... (with 20 trackers)\n",
      "Processed Story Blocks: 100%|██████████| 44/44 [00:00<00:00, 101.41it/s, # trackers=16]\n",
      "2019-05-25 02:51:16 DEBUG    rasa_core.training.generator  - Finished phase (1588 training samples found).\n",
      "2019-05-25 02:51:16 DEBUG    rasa_core.training.generator  - Starting augmentation round 2 ... (with 20 trackers)\n",
      "Processed Story Blocks: 100%|██████████| 44/44 [00:00<00:00, 87.88it/s, # trackers=17]\n",
      "2019-05-25 02:51:17 DEBUG    rasa_core.training.generator  - Finished phase (2339 training samples found).\n",
      "2019-05-25 02:51:17 DEBUG    rasa_core.training.generator  - Found 2339 training trackers.\n",
      "2019-05-25 02:51:17 DEBUG    rasa_core.training.generator  - Subsampled to 200 augmented training trackers.\n",
      "2019-05-25 02:51:17 DEBUG    rasa_core.training.generator  - There are 44 original trackers.\n",
      "2019-05-25 02:51:17 DEBUG    rasa_core.agent  - Agent trainer got kwargs: {}\n",
      "2019-05-25 02:51:17 DEBUG    rasa_core.featurizers  - Creating states and action examples from collected trackers (by MaxHistoryTrackerFeaturizer(SingleStateFeaturizer))...\n",
      "Processed trackers: 100%|██████████| 44/44 [00:00<00:00, 48.32it/s, # actions=273]\n",
      "2019-05-25 02:51:18 DEBUG    rasa_core.featurizers  - Created 273 action examples.\n",
      "Processed actions: 273it [00:00, 609.64it/s, # examples=273]\n",
      "2019-05-25 02:51:18 DEBUG    rasa_core.policies.memoization  - Memorized 273 unique examples.\n",
      "2019-05-25 02:51:18 DEBUG    rasa_core.featurizers  - Creating states and action examples from collected trackers (by MaxHistoryTrackerFeaturizer(BinarySingleStateFeaturizer))...\n",
      "Processed trackers: 100%|██████████| 244/244 [00:12<00:00, 19.58it/s, # actions=755]\n",
      "2019-05-25 02:51:31 DEBUG    rasa_core.featurizers  - Created 755 action examples.\n",
      "2019-05-25 02:51:31 DEBUG    rasa_core.policies.policy  - Parameters ignored by `model.fit(...)`: {}\n",
      "C:\\Anaconda Installations\\AC\\lib\\site-packages\\sklearn\\linear_model\\logistic.py:433: FutureWarning: Default solver will be changed to 'lbfgs' in 0.22. Specify a solver to silence this warning.\n",
      "  FutureWarning)\n",
      "C:\\Anaconda Installations\\AC\\lib\\site-packages\\sklearn\\linear_model\\logistic.py:460: FutureWarning: Default multi_class will be changed to 'auto' in 0.22. Specify the multi_class option to silence this warning.\n",
      "  \"this warning.\", FutureWarning)\n",
      "2019-05-25 02:51:31 INFO     rasa_core.policies.sklearn_policy  - Done fitting sklearn policy model\n",
      "2019-05-25 02:51:31 INFO     rasa_core.agent  - Model directory ./models/dialogue exists and contains old model files. All files will be overwritten.\n",
      "2019-05-25 02:51:31 INFO     rasa_core.agent  - Persisted model to 'C:\\Users\\pondh\\models\\dialogue'\n"
     ]
    }
   ],
   "source": [
    "from __future__ import absolute_import\n",
    "from __future__ import division\n",
    "from __future__ import print_function\n",
    "from __future__ import unicode_literals\n",
    "from rasa_core import utils\n",
    "from rasa_core.agent import Agent\n",
    "from rasa_core.policies.keras_policy import KerasPolicy\n",
    "from rasa_core.policies.memoization import MemoizationPolicy\n",
    "from rasa_core.policies.sklearn_policy import SklearnPolicy\n",
    "from rasa_core.policies.fallback import FallbackPolicy\n",
    "fallback = FallbackPolicy(fallback_action_name=\"utter_default_fallback\",\n",
    "                          core_threshold=0.1,\n",
    "                          nlu_threshold=0.3)\n",
    "\n",
    "if __name__ == '__main__':\n",
    "    utils.configure_colored_logging(loglevel='DEBUG')\n",
    "training_data_file = './data/stories.md'\n",
    "model_path = './models/dialogue'\n",
    "agent = Agent(\"domain.yml\",policies=[MemoizationPolicy(max_history=5), SklearnPolicy(), fallback])\n",
    "training_data = agent.load_data(training_data_file)\n",
    "agent.train(\n",
    "    training_data,\n",
    "    \n",
    ")\n",
    "\n",
    "agent.persist(model_path)\n",
    "\n",
    "\n"
   ]
  },
  {
   "cell_type": "code",
   "execution_count": 44,
   "metadata": {},
   "outputs": [],
   "source": [
    "#CHATBOT"
   ]
  },
  {
   "cell_type": "code",
   "execution_count": 45,
   "metadata": {},
   "outputs": [
    {
     "name": "stderr",
     "output_type": "stream",
     "text": [
      "2019-05-25 02:51:51 INFO     rasa_nlu.components  - Added 'SpacyNLP' to component cache. Key 'SpacyNLP-en'.\n",
      "2019-05-25 02:51:51 INFO     rasa_core.policies.sklearn_policy  - Loaded sklearn model\n"
     ]
    }
   ],
   "source": [
    "# Loading the Agent\n",
    "rasaNLU = RasaNLUInterpreter(\"models/nlu/default/chat\")\n",
    "agent = Agent.load(\"models/dialogue\", interpreter= rasaNLU)"
   ]
  },
  {
   "cell_type": "code",
   "execution_count": 46,
   "metadata": {},
   "outputs": [],
   "source": [
    "#1 CONVERSATION"
   ]
  },
  {
   "cell_type": "code",
   "execution_count": 47,
   "metadata": {},
   "outputs": [
    {
     "name": "stderr",
     "output_type": "stream",
     "text": [
      "2019-05-25 02:51:54 DEBUG    rasa_core.tracker_store  - Creating a new tracker for id 'default'.\n",
      "2019-05-25 02:51:54 DEBUG    rasa_core.processor  - Received user message 'Hi' with intent '{'name': 'greet', 'confidence': 0.4222355119191239}' and entities '[]'\n",
      "2019-05-25 02:51:54 DEBUG    rasa_core.processor  - Logged UserUtterance - tracker now has 2 events\n",
      "2019-05-25 02:51:54 DEBUG    rasa_core.processor  - Current slot values: \n",
      "\tresponse: None\n",
      "\tservice: None\n",
      "2019-05-25 02:51:54 DEBUG    rasa_core.policies.memoization  - Current tracker state [None, None, None, {}, {'prev_action_listen': 1.0, 'intent_greet': 1.0}]\n",
      "2019-05-25 02:51:54 DEBUG    rasa_core.policies.memoization  - There is a memorised next action '8'\n",
      "2019-05-25 02:51:54 DEBUG    rasa_core.policies.ensemble  - Predicted next action using policy_0_MemoizationPolicy\n",
      "2019-05-25 02:51:54 DEBUG    rasa_core.processor  - Predicted next action 'utter_greet' with prob 1.00.\n",
      "2019-05-25 02:51:54 DEBUG    rasa_core.processor  - Action 'utter_greet' ended with events '[]'\n",
      "2019-05-25 02:51:54 DEBUG    rasa_core.processor  - Bot utterance 'BotUttered(text: Hi I am Emilia, data: {\n",
      "  \"elements\": null,\n",
      "  \"buttons\": null,\n",
      "  \"attachment\": null\n",
      "})'\n",
      "2019-05-25 02:51:54 DEBUG    rasa_core.policies.memoization  - Current tracker state [None, None, {}, {'prev_action_listen': 1.0, 'intent_greet': 1.0}, {'prev_utter_greet': 1.0, 'intent_greet': 1.0}]\n",
      "2019-05-25 02:51:54 DEBUG    rasa_core.policies.memoization  - There is a memorised next action '9'\n",
      "2019-05-25 02:51:54 DEBUG    rasa_core.policies.ensemble  - Predicted next action using policy_0_MemoizationPolicy\n",
      "2019-05-25 02:51:54 DEBUG    rasa_core.processor  - Predicted next action 'utter_ask_service_name' with prob 1.00.\n",
      "2019-05-25 02:51:54 DEBUG    rasa_core.processor  - Action 'utter_ask_service_name' ended with events '[]'\n",
      "2019-05-25 02:51:54 DEBUG    rasa_core.processor  - Bot utterance 'BotUttered(text: What service can I help you with today - Credit Card or Savings Account?, data: {\n",
      "  \"elements\": null,\n",
      "  \"buttons\": null,\n",
      "  \"attachment\": null\n",
      "})'\n",
      "2019-05-25 02:51:54 DEBUG    rasa_core.policies.memoization  - Current tracker state [None, {}, {'prev_action_listen': 1.0, 'intent_greet': 1.0}, {'prev_utter_greet': 1.0, 'intent_greet': 1.0}, {'prev_utter_ask_service_name': 1.0, 'intent_greet': 1.0}]\n",
      "2019-05-25 02:51:54 DEBUG    rasa_core.policies.memoization  - There is no memorised next action\n",
      "2019-05-25 02:51:54 DEBUG    rasa_core.policies.ensemble  - Predicted next action using policy_1_SklearnPolicy\n",
      "2019-05-25 02:51:54 DEBUG    rasa_core.processor  - Predicted next action 'action_listen' with prob 0.68.\n",
      "2019-05-25 02:51:54 DEBUG    rasa_core.processor  - Action 'action_listen' ended with events '[]'\n"
     ]
    },
    {
     "data": {
      "text/plain": [
       "[{'recipient_id': 'default', 'text': 'Hi I am Emilia'},\n",
       " {'recipient_id': 'default',\n",
       "  'text': 'What service can I help you with today - Credit Card or Savings Account?'}]"
      ]
     },
     "execution_count": 47,
     "metadata": {},
     "output_type": "execute_result"
    }
   ],
   "source": [
    "# asking question\n",
    "agent.handle_text('Hi')"
   ]
  },
  {
   "cell_type": "code",
   "execution_count": 48,
   "metadata": {},
   "outputs": [
    {
     "name": "stderr",
     "output_type": "stream",
     "text": [
      "2019-05-25 02:51:58 DEBUG    rasa_core.tracker_store  - Recreating tracker for id 'default'\n",
      "2019-05-25 02:51:58 DEBUG    rasa_core.processor  - Received user message 'credit card' with intent '{'name': 'withdraw', 'confidence': 0.9286158438606018}' and entities '[]'\n",
      "2019-05-25 02:51:58 DEBUG    rasa_core.processor  - Logged UserUtterance - tracker now has 8 events\n",
      "2019-05-25 02:51:58 DEBUG    rasa_core.processor  - Current slot values: \n",
      "\tresponse: None\n",
      "\tservice: None\n",
      "2019-05-25 02:51:58 DEBUG    rasa_core.policies.memoization  - Current tracker state [{}, {'prev_action_listen': 1.0, 'intent_greet': 1.0}, {'prev_utter_greet': 1.0, 'intent_greet': 1.0}, {'prev_utter_ask_service_name': 1.0, 'intent_greet': 1.0}, {'prev_action_listen': 1.0, 'intent_withdraw': 1.0}]\n",
      "2019-05-25 02:51:58 DEBUG    rasa_core.policies.memoization  - There is no memorised next action\n",
      "2019-05-25 02:51:58 DEBUG    rasa_core.policies.ensemble  - Predicted next action using policy_1_SklearnPolicy\n",
      "2019-05-25 02:51:58 DEBUG    rasa_core.processor  - Predicted next action 'utter_help' with prob 0.25.\n",
      "2019-05-25 02:51:58 DEBUG    rasa_core.processor  - Action 'utter_help' ended with events '[]'\n",
      "2019-05-25 02:51:58 DEBUG    rasa_core.processor  - Bot utterance 'BotUttered(text: How can I help you?, data: {\n",
      "  \"elements\": null,\n",
      "  \"buttons\": null,\n",
      "  \"attachment\": null\n",
      "})'\n",
      "2019-05-25 02:51:58 DEBUG    rasa_core.policies.memoization  - Current tracker state [{'prev_action_listen': 1.0, 'intent_greet': 1.0}, {'prev_utter_greet': 1.0, 'intent_greet': 1.0}, {'prev_utter_ask_service_name': 1.0, 'intent_greet': 1.0}, {'prev_action_listen': 1.0, 'intent_withdraw': 1.0}, {'prev_utter_help': 1.0, 'intent_withdraw': 1.0}]\n",
      "2019-05-25 02:51:58 DEBUG    rasa_core.policies.memoization  - There is no memorised next action\n",
      "2019-05-25 02:51:58 DEBUG    rasa_core.policies.ensemble  - Predicted next action using policy_1_SklearnPolicy\n",
      "2019-05-25 02:51:58 DEBUG    rasa_core.processor  - Predicted next action 'action_listen' with prob 0.28.\n",
      "2019-05-25 02:51:58 DEBUG    rasa_core.processor  - Action 'action_listen' ended with events '[]'\n"
     ]
    },
    {
     "data": {
      "text/plain": [
       "[{'recipient_id': 'default', 'text': 'How can I help you?'}]"
      ]
     },
     "execution_count": 48,
     "metadata": {},
     "output_type": "execute_result"
    }
   ],
   "source": [
    "# asking question\n",
    "agent.handle_text('credit card')"
   ]
  },
  {
   "cell_type": "code",
   "execution_count": 49,
   "metadata": {},
   "outputs": [
    {
     "name": "stderr",
     "output_type": "stream",
     "text": [
      "2019-05-25 02:51:59 DEBUG    rasa_core.tracker_store  - Recreating tracker for id 'default'\n",
      "2019-05-25 02:51:59 DEBUG    rasa_core.processor  - Received user message 'Can I withdraw cash from my credit card?' with intent '{'name': 'cash_withdrawl', 'confidence': 0.7350517338872213}' and entities '[]'\n",
      "2019-05-25 02:51:59 DEBUG    rasa_core.processor  - Logged UserUtterance - tracker now has 12 events\n",
      "2019-05-25 02:51:59 DEBUG    rasa_core.processor  - Current slot values: \n",
      "\tresponse: None\n",
      "\tservice: None\n",
      "2019-05-25 02:51:59 DEBUG    rasa_core.policies.memoization  - Current tracker state [{'prev_utter_greet': 1.0, 'intent_greet': 1.0}, {'prev_utter_ask_service_name': 1.0, 'intent_greet': 1.0}, {'prev_action_listen': 1.0, 'intent_withdraw': 1.0}, {'prev_utter_help': 1.0, 'intent_withdraw': 1.0}, {'intent_cash_withdrawl': 1.0, 'prev_action_listen': 1.0}]\n",
      "2019-05-25 02:51:59 DEBUG    rasa_core.policies.memoization  - There is no memorised next action\n",
      "2019-05-25 02:51:59 DEBUG    rasa_core.policies.ensemble  - Predicted next action using policy_1_SklearnPolicy\n",
      "2019-05-25 02:51:59 DEBUG    rasa_core.processor  - Predicted next action 'utter_cash_withdrawl' with prob 0.11.\n",
      "2019-05-25 02:51:59 DEBUG    rasa_core.processor  - Action 'utter_cash_withdrawl' ended with events '[]'\n",
      "2019-05-25 02:51:59 DEBUG    rasa_core.processor  - Bot utterance 'BotUttered(text: The Card Member can use the Card to access emergency cash from teller counters at VWXYZ Bank branches or ATMs of select VWXYZ Bank locations or correspondent banks., data: {\n",
      "  \"elements\": null,\n",
      "  \"buttons\": null,\n",
      "  \"attachment\": null\n",
      "})'\n",
      "2019-05-25 02:51:59 DEBUG    rasa_core.policies.memoization  - Current tracker state [{'prev_utter_ask_service_name': 1.0, 'intent_greet': 1.0}, {'prev_action_listen': 1.0, 'intent_withdraw': 1.0}, {'prev_utter_help': 1.0, 'intent_withdraw': 1.0}, {'intent_cash_withdrawl': 1.0, 'prev_action_listen': 1.0}, {'intent_cash_withdrawl': 1.0, 'prev_utter_cash_withdrawl': 1.0}]\n",
      "2019-05-25 02:51:59 DEBUG    rasa_core.policies.memoization  - There is no memorised next action\n",
      "2019-05-25 02:51:59 DEBUG    rasa_core.policies.ensemble  - Predicted next action using policy_1_SklearnPolicy\n",
      "2019-05-25 02:51:59 DEBUG    rasa_core.processor  - Predicted next action 'utter_did_that_help' with prob 0.33.\n",
      "2019-05-25 02:51:59 DEBUG    rasa_core.processor  - Action 'utter_did_that_help' ended with events '[]'\n",
      "2019-05-25 02:51:59 DEBUG    rasa_core.processor  - Bot utterance 'BotUttered(text: Did that help you? Yes or No, data: {\n",
      "  \"elements\": null,\n",
      "  \"buttons\": null,\n",
      "  \"attachment\": null\n",
      "})'\n",
      "2019-05-25 02:51:59 DEBUG    rasa_core.policies.memoization  - Current tracker state [{'prev_action_listen': 1.0, 'intent_withdraw': 1.0}, {'prev_utter_help': 1.0, 'intent_withdraw': 1.0}, {'intent_cash_withdrawl': 1.0, 'prev_action_listen': 1.0}, {'intent_cash_withdrawl': 1.0, 'prev_utter_cash_withdrawl': 1.0}, {'intent_cash_withdrawl': 1.0, 'prev_utter_did_that_help': 1.0}]\n",
      "2019-05-25 02:51:59 DEBUG    rasa_core.policies.memoization  - There is no memorised next action\n",
      "2019-05-25 02:51:59 DEBUG    rasa_core.policies.ensemble  - Predicted next action using policy_1_SklearnPolicy\n",
      "2019-05-25 02:51:59 DEBUG    rasa_core.processor  - Predicted next action 'action_listen' with prob 0.30.\n",
      "2019-05-25 02:51:59 DEBUG    rasa_core.processor  - Action 'action_listen' ended with events '[]'\n"
     ]
    },
    {
     "data": {
      "text/plain": [
       "[{'recipient_id': 'default',\n",
       "  'text': 'The Card Member can use the Card to access emergency cash from teller counters at VWXYZ Bank branches or ATMs of select VWXYZ Bank locations or correspondent banks.'},\n",
       " {'recipient_id': 'default', 'text': 'Did that help you? Yes or No'}]"
      ]
     },
     "execution_count": 49,
     "metadata": {},
     "output_type": "execute_result"
    }
   ],
   "source": [
    "# asking question\n",
    "agent.handle_text('Can I withdraw cash from my credit card?')"
   ]
  },
  {
   "cell_type": "code",
   "execution_count": 50,
   "metadata": {},
   "outputs": [
    {
     "name": "stderr",
     "output_type": "stream",
     "text": [
      "2019-05-25 02:52:03 DEBUG    rasa_core.tracker_store  - Recreating tracker for id 'default'\n",
      "2019-05-25 02:52:03 DEBUG    rasa_core.processor  - Received user message 'yes' with intent '{'name': 'affirm', 'confidence': 0.4074675189092886}' and entities '[]'\n",
      "2019-05-25 02:52:03 DEBUG    rasa_core.processor  - Logged UserUtterance - tracker now has 18 events\n",
      "2019-05-25 02:52:03 DEBUG    rasa_core.processor  - Current slot values: \n",
      "\tresponse: None\n",
      "\tservice: None\n",
      "2019-05-25 02:52:03 DEBUG    rasa_core.policies.memoization  - Current tracker state [{'prev_utter_help': 1.0, 'intent_withdraw': 1.0}, {'intent_cash_withdrawl': 1.0, 'prev_action_listen': 1.0}, {'intent_cash_withdrawl': 1.0, 'prev_utter_cash_withdrawl': 1.0}, {'intent_cash_withdrawl': 1.0, 'prev_utter_did_that_help': 1.0}, {'intent_affirm': 1.0, 'prev_action_listen': 1.0}]\n",
      "2019-05-25 02:52:03 DEBUG    rasa_core.policies.memoization  - There is no memorised next action\n",
      "2019-05-25 02:52:03 DEBUG    rasa_core.policies.ensemble  - Predicted next action using policy_1_SklearnPolicy\n",
      "2019-05-25 02:52:03 DEBUG    rasa_core.processor  - Predicted next action 'utter_happy' with prob 0.28.\n",
      "2019-05-25 02:52:03 DEBUG    rasa_core.processor  - Action 'utter_happy' ended with events '[]'\n",
      "2019-05-25 02:52:03 DEBUG    rasa_core.processor  - Bot utterance 'BotUttered(text: Great carry on, data: {\n",
      "  \"elements\": null,\n",
      "  \"buttons\": null,\n",
      "  \"attachment\": null\n",
      "})'\n",
      "2019-05-25 02:52:03 DEBUG    rasa_core.policies.memoization  - Current tracker state [{'intent_cash_withdrawl': 1.0, 'prev_action_listen': 1.0}, {'intent_cash_withdrawl': 1.0, 'prev_utter_cash_withdrawl': 1.0}, {'intent_cash_withdrawl': 1.0, 'prev_utter_did_that_help': 1.0}, {'intent_affirm': 1.0, 'prev_action_listen': 1.0}, {'intent_affirm': 1.0, 'prev_utter_happy': 1.0}]\n",
      "2019-05-25 02:52:03 DEBUG    rasa_core.policies.memoization  - There is no memorised next action\n",
      "2019-05-25 02:52:03 DEBUG    rasa_core.policies.ensemble  - Predicted next action using policy_1_SklearnPolicy\n",
      "2019-05-25 02:52:03 DEBUG    rasa_core.processor  - Predicted next action 'action_listen' with prob 0.44.\n",
      "2019-05-25 02:52:03 DEBUG    rasa_core.processor  - Action 'action_listen' ended with events '[]'\n"
     ]
    },
    {
     "data": {
      "text/plain": [
       "[{'recipient_id': 'default', 'text': 'Great carry on'}]"
      ]
     },
     "execution_count": 50,
     "metadata": {},
     "output_type": "execute_result"
    }
   ],
   "source": [
    "# asking question\n",
    "agent.handle_text('yes')"
   ]
  },
  {
   "cell_type": "code",
   "execution_count": 51,
   "metadata": {},
   "outputs": [
    {
     "name": "stderr",
     "output_type": "stream",
     "text": [
      "2019-05-25 02:52:07 DEBUG    rasa_core.tracker_store  - Recreating tracker for id 'default'\n",
      "2019-05-25 02:52:07 DEBUG    rasa_core.processor  - Received user message 'Goodbye' with intent '{'name': 'goodbye', 'confidence': 0.5930149981529287}' and entities '[]'\n",
      "2019-05-25 02:52:07 DEBUG    rasa_core.processor  - Logged UserUtterance - tracker now has 22 events\n",
      "2019-05-25 02:52:07 DEBUG    rasa_core.processor  - Current slot values: \n",
      "\tresponse: None\n",
      "\tservice: None\n",
      "2019-05-25 02:52:07 DEBUG    rasa_core.policies.memoization  - Current tracker state [{'intent_cash_withdrawl': 1.0, 'prev_utter_cash_withdrawl': 1.0}, {'intent_cash_withdrawl': 1.0, 'prev_utter_did_that_help': 1.0}, {'intent_affirm': 1.0, 'prev_action_listen': 1.0}, {'intent_affirm': 1.0, 'prev_utter_happy': 1.0}, {'prev_action_listen': 1.0, 'intent_goodbye': 1.0}]\n",
      "2019-05-25 02:52:07 DEBUG    rasa_core.policies.memoization  - There is no memorised next action\n",
      "2019-05-25 02:52:07 DEBUG    rasa_core.policies.ensemble  - Predicted next action using policy_1_SklearnPolicy\n",
      "2019-05-25 02:52:07 DEBUG    rasa_core.processor  - Predicted next action 'utter_goodbye' with prob 0.42.\n",
      "2019-05-25 02:52:07 DEBUG    rasa_core.processor  - Action 'utter_goodbye' ended with events '[]'\n",
      "2019-05-25 02:52:07 DEBUG    rasa_core.processor  - Bot utterance 'BotUttered(text: Have a Great Day Bye, data: {\n",
      "  \"elements\": null,\n",
      "  \"buttons\": null,\n",
      "  \"attachment\": null\n",
      "})'\n",
      "2019-05-25 02:52:07 DEBUG    rasa_core.policies.memoization  - Current tracker state [{'intent_cash_withdrawl': 1.0, 'prev_utter_did_that_help': 1.0}, {'intent_affirm': 1.0, 'prev_action_listen': 1.0}, {'intent_affirm': 1.0, 'prev_utter_happy': 1.0}, {'prev_action_listen': 1.0, 'intent_goodbye': 1.0}, {'intent_goodbye': 1.0, 'prev_utter_goodbye': 1.0}]\n",
      "2019-05-25 02:52:07 DEBUG    rasa_core.policies.memoization  - There is no memorised next action\n",
      "2019-05-25 02:52:07 DEBUG    rasa_core.policies.ensemble  - Predicted next action using policy_1_SklearnPolicy\n",
      "2019-05-25 02:52:07 DEBUG    rasa_core.processor  - Predicted next action 'action_listen' with prob 0.38.\n",
      "2019-05-25 02:52:07 DEBUG    rasa_core.processor  - Action 'action_listen' ended with events '[]'\n"
     ]
    },
    {
     "data": {
      "text/plain": [
       "[{'recipient_id': 'default', 'text': 'Have a Great Day Bye'}]"
      ]
     },
     "execution_count": 51,
     "metadata": {},
     "output_type": "execute_result"
    }
   ],
   "source": [
    "# asking question\n",
    "agent.handle_text('Goodbye')"
   ]
  },
  {
   "cell_type": "markdown",
   "metadata": {},
   "source": [
    "#2 CONVERSATION - HANDLING DENY"
   ]
  },
  {
   "cell_type": "code",
   "execution_count": 52,
   "metadata": {},
   "outputs": [
    {
     "name": "stderr",
     "output_type": "stream",
     "text": [
      "2019-05-25 02:52:11 DEBUG    rasa_core.tracker_store  - Recreating tracker for id 'default'\n",
      "2019-05-25 02:52:11 DEBUG    rasa_core.processor  - Received user message 'Hello' with intent '{'name': 'greet', 'confidence': 0.39561158040148703}' and entities '[]'\n",
      "2019-05-25 02:52:11 DEBUG    rasa_core.processor  - Logged UserUtterance - tracker now has 26 events\n",
      "2019-05-25 02:52:11 DEBUG    rasa_core.processor  - Current slot values: \n",
      "\tresponse: None\n",
      "\tservice: None\n",
      "2019-05-25 02:52:11 DEBUG    rasa_core.policies.memoization  - Current tracker state [{'intent_affirm': 1.0, 'prev_action_listen': 1.0}, {'intent_affirm': 1.0, 'prev_utter_happy': 1.0}, {'prev_action_listen': 1.0, 'intent_goodbye': 1.0}, {'intent_goodbye': 1.0, 'prev_utter_goodbye': 1.0}, {'prev_action_listen': 1.0, 'intent_greet': 1.0}]\n",
      "2019-05-25 02:52:11 DEBUG    rasa_core.policies.memoization  - There is no memorised next action\n",
      "2019-05-25 02:52:11 DEBUG    rasa_core.policies.ensemble  - Predicted next action using policy_1_SklearnPolicy\n",
      "2019-05-25 02:52:11 DEBUG    rasa_core.processor  - Predicted next action 'utter_greet' with prob 0.30.\n",
      "2019-05-25 02:52:11 DEBUG    rasa_core.processor  - Action 'utter_greet' ended with events '[]'\n",
      "2019-05-25 02:52:11 DEBUG    rasa_core.processor  - Bot utterance 'BotUttered(text: Hi I am Emilia, data: {\n",
      "  \"elements\": null,\n",
      "  \"buttons\": null,\n",
      "  \"attachment\": null\n",
      "})'\n",
      "2019-05-25 02:52:11 DEBUG    rasa_core.policies.memoization  - Current tracker state [{'intent_affirm': 1.0, 'prev_utter_happy': 1.0}, {'prev_action_listen': 1.0, 'intent_goodbye': 1.0}, {'intent_goodbye': 1.0, 'prev_utter_goodbye': 1.0}, {'prev_action_listen': 1.0, 'intent_greet': 1.0}, {'prev_utter_greet': 1.0, 'intent_greet': 1.0}]\n",
      "2019-05-25 02:52:11 DEBUG    rasa_core.policies.memoization  - There is no memorised next action\n",
      "2019-05-25 02:52:11 DEBUG    rasa_core.policies.ensemble  - Predicted next action using policy_1_SklearnPolicy\n",
      "2019-05-25 02:52:11 DEBUG    rasa_core.processor  - Predicted next action 'utter_ask_service_name' with prob 0.25.\n",
      "2019-05-25 02:52:11 DEBUG    rasa_core.processor  - Action 'utter_ask_service_name' ended with events '[]'\n",
      "2019-05-25 02:52:11 DEBUG    rasa_core.processor  - Bot utterance 'BotUttered(text: What service can I help you with today - Credit Card or Savings Account?, data: {\n",
      "  \"elements\": null,\n",
      "  \"buttons\": null,\n",
      "  \"attachment\": null\n",
      "})'\n",
      "2019-05-25 02:52:11 DEBUG    rasa_core.policies.memoization  - Current tracker state [{'prev_action_listen': 1.0, 'intent_goodbye': 1.0}, {'intent_goodbye': 1.0, 'prev_utter_goodbye': 1.0}, {'prev_action_listen': 1.0, 'intent_greet': 1.0}, {'prev_utter_greet': 1.0, 'intent_greet': 1.0}, {'prev_utter_ask_service_name': 1.0, 'intent_greet': 1.0}]\n",
      "2019-05-25 02:52:11 DEBUG    rasa_core.policies.memoization  - There is no memorised next action\n",
      "2019-05-25 02:52:11 DEBUG    rasa_core.policies.ensemble  - Predicted next action using policy_1_SklearnPolicy\n",
      "2019-05-25 02:52:11 DEBUG    rasa_core.processor  - Predicted next action 'action_listen' with prob 0.26.\n",
      "2019-05-25 02:52:11 DEBUG    rasa_core.processor  - Action 'action_listen' ended with events '[]'\n"
     ]
    },
    {
     "data": {
      "text/plain": [
       "[{'recipient_id': 'default', 'text': 'Hi I am Emilia'},\n",
       " {'recipient_id': 'default',\n",
       "  'text': 'What service can I help you with today - Credit Card or Savings Account?'}]"
      ]
     },
     "execution_count": 52,
     "metadata": {},
     "output_type": "execute_result"
    }
   ],
   "source": [
    "# asking question\n",
    "agent.handle_text('Hello')"
   ]
  },
  {
   "cell_type": "code",
   "execution_count": 53,
   "metadata": {},
   "outputs": [
    {
     "name": "stderr",
     "output_type": "stream",
     "text": [
      "2019-05-25 02:52:14 DEBUG    rasa_core.tracker_store  - Recreating tracker for id 'default'\n",
      "2019-05-25 02:52:14 DEBUG    rasa_core.processor  - Received user message 'savings' with intent '{'name': 'passbook', 'confidence': 0.7957462008509107}' and entities '[]'\n",
      "2019-05-25 02:52:14 DEBUG    rasa_core.processor  - Logged UserUtterance - tracker now has 32 events\n",
      "2019-05-25 02:52:14 DEBUG    rasa_core.processor  - Current slot values: \n",
      "\tresponse: None\n",
      "\tservice: None\n",
      "2019-05-25 02:52:14 DEBUG    rasa_core.policies.memoization  - Current tracker state [{'intent_goodbye': 1.0, 'prev_utter_goodbye': 1.0}, {'prev_action_listen': 1.0, 'intent_greet': 1.0}, {'prev_utter_greet': 1.0, 'intent_greet': 1.0}, {'prev_utter_ask_service_name': 1.0, 'intent_greet': 1.0}, {'intent_passbook': 1.0, 'prev_action_listen': 1.0}]\n",
      "2019-05-25 02:52:14 DEBUG    rasa_core.policies.memoization  - There is no memorised next action\n",
      "2019-05-25 02:52:14 DEBUG    rasa_core.policies.ensemble  - Predicted next action using policy_1_SklearnPolicy\n",
      "2019-05-25 02:52:14 DEBUG    rasa_core.processor  - Predicted next action 'utter_help' with prob 0.26.\n",
      "2019-05-25 02:52:14 DEBUG    rasa_core.processor  - Action 'utter_help' ended with events '[]'\n",
      "2019-05-25 02:52:14 DEBUG    rasa_core.processor  - Bot utterance 'BotUttered(text: How can I help you?, data: {\n",
      "  \"elements\": null,\n",
      "  \"buttons\": null,\n",
      "  \"attachment\": null\n",
      "})'\n",
      "2019-05-25 02:52:14 DEBUG    rasa_core.policies.memoization  - Current tracker state [{'prev_action_listen': 1.0, 'intent_greet': 1.0}, {'prev_utter_greet': 1.0, 'intent_greet': 1.0}, {'prev_utter_ask_service_name': 1.0, 'intent_greet': 1.0}, {'intent_passbook': 1.0, 'prev_action_listen': 1.0}, {'intent_passbook': 1.0, 'prev_utter_help': 1.0}]\n",
      "2019-05-25 02:52:14 DEBUG    rasa_core.policies.memoization  - There is no memorised next action\n",
      "2019-05-25 02:52:14 DEBUG    rasa_core.policies.ensemble  - Predicted next action using policy_1_SklearnPolicy\n",
      "2019-05-25 02:52:14 DEBUG    rasa_core.processor  - Predicted next action 'action_listen' with prob 0.29.\n",
      "2019-05-25 02:52:14 DEBUG    rasa_core.processor  - Action 'action_listen' ended with events '[]'\n"
     ]
    },
    {
     "data": {
      "text/plain": [
       "[{'recipient_id': 'default', 'text': 'How can I help you?'}]"
      ]
     },
     "execution_count": 53,
     "metadata": {},
     "output_type": "execute_result"
    }
   ],
   "source": [
    "# asking question\n",
    "agent.handle_text('savings')"
   ]
  },
  {
   "cell_type": "code",
   "execution_count": 54,
   "metadata": {},
   "outputs": [
    {
     "name": "stderr",
     "output_type": "stream",
     "text": [
      "2019-05-25 02:52:16 DEBUG    rasa_core.tracker_store  - Recreating tracker for id 'default'\n",
      "2019-05-25 02:52:16 DEBUG    rasa_core.processor  - Received user message 'Will I be charged for a new cheque book' with intent '{'name': 'cheque_book_cost', 'confidence': 0.6616443559534062}' and entities '[]'\n",
      "2019-05-25 02:52:16 DEBUG    rasa_core.processor  - Logged UserUtterance - tracker now has 36 events\n",
      "2019-05-25 02:52:16 DEBUG    rasa_core.processor  - Current slot values: \n",
      "\tresponse: None\n",
      "\tservice: None\n",
      "2019-05-25 02:52:16 DEBUG    rasa_core.policies.memoization  - Current tracker state [{'prev_utter_greet': 1.0, 'intent_greet': 1.0}, {'prev_utter_ask_service_name': 1.0, 'intent_greet': 1.0}, {'intent_passbook': 1.0, 'prev_action_listen': 1.0}, {'intent_passbook': 1.0, 'prev_utter_help': 1.0}, {'intent_cheque_book_cost': 1.0, 'prev_action_listen': 1.0}]\n",
      "2019-05-25 02:52:16 DEBUG    rasa_core.policies.memoization  - There is no memorised next action\n",
      "2019-05-25 02:52:16 DEBUG    rasa_core.policies.ensemble  - Predicted next action using policy_1_SklearnPolicy\n",
      "2019-05-25 02:52:16 DEBUG    rasa_core.processor  - Predicted next action 'utter_cheque_book_cost' with prob 0.13.\n",
      "2019-05-25 02:52:16 DEBUG    rasa_core.processor  - Action 'utter_cheque_book_cost' ended with events '[]'\n",
      "2019-05-25 02:52:16 DEBUG    rasa_core.processor  - Bot utterance 'BotUttered(text: Cheque books are normally issued free of cost, however, VWXYZ  Bank reserves the right to recover the cost of the cheque book requisitioned., data: {\n",
      "  \"elements\": null,\n",
      "  \"buttons\": null,\n",
      "  \"attachment\": null\n",
      "})'\n",
      "2019-05-25 02:52:16 DEBUG    rasa_core.policies.memoization  - Current tracker state [{'prev_utter_ask_service_name': 1.0, 'intent_greet': 1.0}, {'intent_passbook': 1.0, 'prev_action_listen': 1.0}, {'intent_passbook': 1.0, 'prev_utter_help': 1.0}, {'intent_cheque_book_cost': 1.0, 'prev_action_listen': 1.0}, {'prev_utter_cheque_book_cost': 1.0, 'intent_cheque_book_cost': 1.0}]\n",
      "2019-05-25 02:52:16 DEBUG    rasa_core.policies.memoization  - There is no memorised next action\n",
      "2019-05-25 02:52:16 DEBUG    rasa_core.policies.ensemble  - Predicted next action using policy_1_SklearnPolicy\n",
      "2019-05-25 02:52:16 DEBUG    rasa_core.processor  - Predicted next action 'utter_did_that_help' with prob 0.33.\n",
      "2019-05-25 02:52:16 DEBUG    rasa_core.processor  - Action 'utter_did_that_help' ended with events '[]'\n",
      "2019-05-25 02:52:16 DEBUG    rasa_core.processor  - Bot utterance 'BotUttered(text: Did that help you? Yes or No, data: {\n",
      "  \"elements\": null,\n",
      "  \"buttons\": null,\n",
      "  \"attachment\": null\n",
      "})'\n",
      "2019-05-25 02:52:16 DEBUG    rasa_core.policies.memoization  - Current tracker state [{'intent_passbook': 1.0, 'prev_action_listen': 1.0}, {'intent_passbook': 1.0, 'prev_utter_help': 1.0}, {'intent_cheque_book_cost': 1.0, 'prev_action_listen': 1.0}, {'prev_utter_cheque_book_cost': 1.0, 'intent_cheque_book_cost': 1.0}, {'prev_utter_did_that_help': 1.0, 'intent_cheque_book_cost': 1.0}]\n",
      "2019-05-25 02:52:16 DEBUG    rasa_core.policies.memoization  - There is no memorised next action\n",
      "2019-05-25 02:52:16 DEBUG    rasa_core.policies.ensemble  - Predicted next action using policy_1_SklearnPolicy\n",
      "2019-05-25 02:52:16 DEBUG    rasa_core.processor  - Predicted next action 'action_listen' with prob 0.31.\n",
      "2019-05-25 02:52:16 DEBUG    rasa_core.processor  - Action 'action_listen' ended with events '[]'\n"
     ]
    },
    {
     "data": {
      "text/plain": [
       "[{'recipient_id': 'default',\n",
       "  'text': 'Cheque books are normally issued free of cost, however, VWXYZ  Bank reserves the right to recover the cost of the cheque book requisitioned.'},\n",
       " {'recipient_id': 'default', 'text': 'Did that help you? Yes or No'}]"
      ]
     },
     "execution_count": 54,
     "metadata": {},
     "output_type": "execute_result"
    }
   ],
   "source": [
    "# asking question\n",
    "agent.handle_text('Will I be charged for a new cheque book')"
   ]
  },
  {
   "cell_type": "code",
   "execution_count": 55,
   "metadata": {},
   "outputs": [
    {
     "name": "stderr",
     "output_type": "stream",
     "text": [
      "2019-05-25 02:52:19 DEBUG    rasa_core.tracker_store  - Recreating tracker for id 'default'\n",
      "2019-05-25 02:52:19 DEBUG    rasa_core.processor  - Received user message 'No' with intent '{'name': 'deny', 'confidence': 0.3685608192085987}' and entities '[]'\n",
      "2019-05-25 02:52:19 DEBUG    rasa_core.processor  - Logged UserUtterance - tracker now has 42 events\n",
      "2019-05-25 02:52:19 DEBUG    rasa_core.processor  - Current slot values: \n",
      "\tresponse: None\n",
      "\tservice: None\n",
      "2019-05-25 02:52:19 DEBUG    rasa_core.policies.memoization  - Current tracker state [{'intent_passbook': 1.0, 'prev_utter_help': 1.0}, {'intent_cheque_book_cost': 1.0, 'prev_action_listen': 1.0}, {'prev_utter_cheque_book_cost': 1.0, 'intent_cheque_book_cost': 1.0}, {'prev_utter_did_that_help': 1.0, 'intent_cheque_book_cost': 1.0}, {'intent_deny': 1.0, 'prev_action_listen': 1.0}]\n",
      "2019-05-25 02:52:19 DEBUG    rasa_core.policies.memoization  - There is no memorised next action\n",
      "2019-05-25 02:52:19 DEBUG    rasa_core.policies.ensemble  - Predicted next action using policy_1_SklearnPolicy\n",
      "2019-05-25 02:52:19 DEBUG    rasa_core.processor  - Predicted next action 'utter_sorry' with prob 0.28.\n",
      "2019-05-25 02:52:19 DEBUG    rasa_core.processor  - Action 'utter_sorry' ended with events '[]'\n",
      "2019-05-25 02:52:19 DEBUG    rasa_core.processor  - Bot utterance 'BotUttered(text: I am Sorry to know that. Can you reach out to the customer care number instead - 1800-xxx-xxx., data: {\n",
      "  \"elements\": null,\n",
      "  \"buttons\": null,\n",
      "  \"attachment\": null\n",
      "})'\n",
      "2019-05-25 02:52:19 DEBUG    rasa_core.policies.memoization  - Current tracker state [{'intent_cheque_book_cost': 1.0, 'prev_action_listen': 1.0}, {'prev_utter_cheque_book_cost': 1.0, 'intent_cheque_book_cost': 1.0}, {'prev_utter_did_that_help': 1.0, 'intent_cheque_book_cost': 1.0}, {'intent_deny': 1.0, 'prev_action_listen': 1.0}, {'intent_deny': 1.0, 'prev_utter_sorry': 1.0}]\n",
      "2019-05-25 02:52:19 DEBUG    rasa_core.policies.memoization  - There is no memorised next action\n",
      "2019-05-25 02:52:19 DEBUG    rasa_core.policies.ensemble  - Predicted next action using policy_1_SklearnPolicy\n",
      "2019-05-25 02:52:19 DEBUG    rasa_core.processor  - Predicted next action 'action_listen' with prob 0.43.\n",
      "2019-05-25 02:52:19 DEBUG    rasa_core.processor  - Action 'action_listen' ended with events '[]'\n"
     ]
    },
    {
     "data": {
      "text/plain": [
       "[{'recipient_id': 'default',\n",
       "  'text': 'I am Sorry to know that. Can you reach out to the customer care number instead - 1800-xxx-xxx.'}]"
      ]
     },
     "execution_count": 55,
     "metadata": {},
     "output_type": "execute_result"
    }
   ],
   "source": [
    "# asking question\n",
    "agent.handle_text('No')"
   ]
  },
  {
   "cell_type": "code",
   "execution_count": 56,
   "metadata": {},
   "outputs": [
    {
     "name": "stderr",
     "output_type": "stream",
     "text": [
      "2019-05-25 02:52:21 DEBUG    rasa_core.tracker_store  - Recreating tracker for id 'default'\n",
      "2019-05-25 02:52:21 DEBUG    rasa_core.processor  - Received user message 'Bye' with intent '{'name': 'goodbye', 'confidence': 0.7747324316606874}' and entities '[]'\n",
      "2019-05-25 02:52:21 DEBUG    rasa_core.processor  - Logged UserUtterance - tracker now has 46 events\n",
      "2019-05-25 02:52:21 DEBUG    rasa_core.processor  - Current slot values: \n",
      "\tresponse: None\n",
      "\tservice: None\n",
      "2019-05-25 02:52:21 DEBUG    rasa_core.policies.memoization  - Current tracker state [{'prev_utter_cheque_book_cost': 1.0, 'intent_cheque_book_cost': 1.0}, {'prev_utter_did_that_help': 1.0, 'intent_cheque_book_cost': 1.0}, {'intent_deny': 1.0, 'prev_action_listen': 1.0}, {'intent_deny': 1.0, 'prev_utter_sorry': 1.0}, {'prev_action_listen': 1.0, 'intent_goodbye': 1.0}]\n",
      "2019-05-25 02:52:21 DEBUG    rasa_core.policies.memoization  - There is no memorised next action\n",
      "2019-05-25 02:52:21 DEBUG    rasa_core.policies.ensemble  - Predicted next action using policy_1_SklearnPolicy\n",
      "2019-05-25 02:52:21 DEBUG    rasa_core.processor  - Predicted next action 'utter_goodbye' with prob 0.41.\n",
      "2019-05-25 02:52:22 DEBUG    rasa_core.processor  - Action 'utter_goodbye' ended with events '[]'\n",
      "2019-05-25 02:52:22 DEBUG    rasa_core.processor  - Bot utterance 'BotUttered(text: Have a Great Day Bye, data: {\n",
      "  \"elements\": null,\n",
      "  \"buttons\": null,\n",
      "  \"attachment\": null\n",
      "})'\n",
      "2019-05-25 02:52:22 DEBUG    rasa_core.policies.memoization  - Current tracker state [{'prev_utter_did_that_help': 1.0, 'intent_cheque_book_cost': 1.0}, {'intent_deny': 1.0, 'prev_action_listen': 1.0}, {'intent_deny': 1.0, 'prev_utter_sorry': 1.0}, {'prev_action_listen': 1.0, 'intent_goodbye': 1.0}, {'intent_goodbye': 1.0, 'prev_utter_goodbye': 1.0}]\n",
      "2019-05-25 02:52:22 DEBUG    rasa_core.policies.memoization  - There is no memorised next action\n",
      "2019-05-25 02:52:22 DEBUG    rasa_core.policies.ensemble  - Predicted next action using policy_1_SklearnPolicy\n",
      "2019-05-25 02:52:22 DEBUG    rasa_core.processor  - Predicted next action 'action_listen' with prob 0.38.\n",
      "2019-05-25 02:52:22 DEBUG    rasa_core.processor  - Action 'action_listen' ended with events '[]'\n"
     ]
    },
    {
     "data": {
      "text/plain": [
       "[{'recipient_id': 'default', 'text': 'Have a Great Day Bye'}]"
      ]
     },
     "execution_count": 56,
     "metadata": {},
     "output_type": "execute_result"
    }
   ],
   "source": [
    "# asking question\n",
    "agent.handle_text('Bye')"
   ]
  },
  {
   "cell_type": "markdown",
   "metadata": {},
   "source": [
    "#3 CONVERSATION"
   ]
  },
  {
   "cell_type": "code",
   "execution_count": 57,
   "metadata": {},
   "outputs": [
    {
     "name": "stderr",
     "output_type": "stream",
     "text": [
      "2019-05-25 02:52:36 INFO     rasa_nlu.components  - Added 'SpacyNLP' to component cache. Key 'SpacyNLP-en'.\n",
      "2019-05-25 02:52:36 INFO     rasa_core.policies.sklearn_policy  - Loaded sklearn model\n"
     ]
    }
   ],
   "source": [
    "# Loading the Agent\n",
    "rasaNLU = RasaNLUInterpreter(\"models/nlu/default/chat\")\n",
    "agent = Agent.load(\"models/dialogue\", interpreter= rasaNLU)"
   ]
  },
  {
   "cell_type": "code",
   "execution_count": 58,
   "metadata": {},
   "outputs": [
    {
     "name": "stderr",
     "output_type": "stream",
     "text": [
      "2019-05-25 02:52:37 DEBUG    rasa_core.tracker_store  - Creating a new tracker for id 'default'.\n",
      "2019-05-25 02:52:37 DEBUG    rasa_core.processor  - Received user message 'Hi' with intent '{'name': 'greet', 'confidence': 0.4222355119191239}' and entities '[]'\n",
      "2019-05-25 02:52:37 DEBUG    rasa_core.processor  - Logged UserUtterance - tracker now has 2 events\n",
      "2019-05-25 02:52:37 DEBUG    rasa_core.processor  - Current slot values: \n",
      "\tresponse: None\n",
      "\tservice: None\n",
      "2019-05-25 02:52:37 DEBUG    rasa_core.policies.memoization  - Current tracker state [None, None, None, {}, {'prev_action_listen': 1.0, 'intent_greet': 1.0}]\n",
      "2019-05-25 02:52:37 DEBUG    rasa_core.policies.memoization  - There is a memorised next action '8'\n",
      "2019-05-25 02:52:37 DEBUG    rasa_core.policies.ensemble  - Predicted next action using policy_0_MemoizationPolicy\n",
      "2019-05-25 02:52:37 DEBUG    rasa_core.processor  - Predicted next action 'utter_greet' with prob 1.00.\n",
      "2019-05-25 02:52:37 DEBUG    rasa_core.processor  - Action 'utter_greet' ended with events '[]'\n",
      "2019-05-25 02:52:37 DEBUG    rasa_core.processor  - Bot utterance 'BotUttered(text: Hi I am Emilia, data: {\n",
      "  \"elements\": null,\n",
      "  \"buttons\": null,\n",
      "  \"attachment\": null\n",
      "})'\n",
      "2019-05-25 02:52:37 DEBUG    rasa_core.policies.memoization  - Current tracker state [None, None, {}, {'prev_action_listen': 1.0, 'intent_greet': 1.0}, {'prev_utter_greet': 1.0, 'intent_greet': 1.0}]\n",
      "2019-05-25 02:52:37 DEBUG    rasa_core.policies.memoization  - There is a memorised next action '9'\n",
      "2019-05-25 02:52:37 DEBUG    rasa_core.policies.ensemble  - Predicted next action using policy_0_MemoizationPolicy\n",
      "2019-05-25 02:52:37 DEBUG    rasa_core.processor  - Predicted next action 'utter_ask_service_name' with prob 1.00.\n",
      "2019-05-25 02:52:37 DEBUG    rasa_core.processor  - Action 'utter_ask_service_name' ended with events '[]'\n",
      "2019-05-25 02:52:37 DEBUG    rasa_core.processor  - Bot utterance 'BotUttered(text: What service can I help you with today - Credit Card or Savings Account?, data: {\n",
      "  \"elements\": null,\n",
      "  \"buttons\": null,\n",
      "  \"attachment\": null\n",
      "})'\n",
      "2019-05-25 02:52:37 DEBUG    rasa_core.policies.memoization  - Current tracker state [None, {}, {'prev_action_listen': 1.0, 'intent_greet': 1.0}, {'prev_utter_greet': 1.0, 'intent_greet': 1.0}, {'prev_utter_ask_service_name': 1.0, 'intent_greet': 1.0}]\n",
      "2019-05-25 02:52:37 DEBUG    rasa_core.policies.memoization  - There is no memorised next action\n",
      "2019-05-25 02:52:37 DEBUG    rasa_core.policies.ensemble  - Predicted next action using policy_1_SklearnPolicy\n",
      "2019-05-25 02:52:37 DEBUG    rasa_core.processor  - Predicted next action 'action_listen' with prob 0.68.\n",
      "2019-05-25 02:52:37 DEBUG    rasa_core.processor  - Action 'action_listen' ended with events '[]'\n"
     ]
    },
    {
     "data": {
      "text/plain": [
       "[{'recipient_id': 'default', 'text': 'Hi I am Emilia'},\n",
       " {'recipient_id': 'default',\n",
       "  'text': 'What service can I help you with today - Credit Card or Savings Account?'}]"
      ]
     },
     "execution_count": 58,
     "metadata": {},
     "output_type": "execute_result"
    }
   ],
   "source": [
    "# asking question\n",
    "agent.handle_text('Hi')"
   ]
  },
  {
   "cell_type": "code",
   "execution_count": 59,
   "metadata": {},
   "outputs": [
    {
     "name": "stderr",
     "output_type": "stream",
     "text": [
      "2019-05-25 02:52:42 DEBUG    rasa_core.tracker_store  - Recreating tracker for id 'default'\n",
      "2019-05-25 02:52:42 DEBUG    rasa_core.processor  - Received user message 'creditcard' with intent '{'name': 'passbook', 'confidence': 0.9710157557008666}' and entities '[]'\n",
      "2019-05-25 02:52:42 DEBUG    rasa_core.processor  - Logged UserUtterance - tracker now has 8 events\n",
      "2019-05-25 02:52:42 DEBUG    rasa_core.processor  - Current slot values: \n",
      "\tresponse: None\n",
      "\tservice: None\n",
      "2019-05-25 02:52:42 DEBUG    rasa_core.policies.memoization  - Current tracker state [{}, {'prev_action_listen': 1.0, 'intent_greet': 1.0}, {'prev_utter_greet': 1.0, 'intent_greet': 1.0}, {'prev_utter_ask_service_name': 1.0, 'intent_greet': 1.0}, {'intent_passbook': 1.0, 'prev_action_listen': 1.0}]\n",
      "2019-05-25 02:52:42 DEBUG    rasa_core.policies.memoization  - There is no memorised next action\n",
      "2019-05-25 02:52:42 DEBUG    rasa_core.policies.ensemble  - Predicted next action using policy_1_SklearnPolicy\n",
      "2019-05-25 02:52:42 DEBUG    rasa_core.processor  - Predicted next action 'utter_help' with prob 0.26.\n",
      "2019-05-25 02:52:42 DEBUG    rasa_core.processor  - Action 'utter_help' ended with events '[]'\n",
      "2019-05-25 02:52:42 DEBUG    rasa_core.processor  - Bot utterance 'BotUttered(text: How can I help you?, data: {\n",
      "  \"elements\": null,\n",
      "  \"buttons\": null,\n",
      "  \"attachment\": null\n",
      "})'\n",
      "2019-05-25 02:52:42 DEBUG    rasa_core.policies.memoization  - Current tracker state [{'prev_action_listen': 1.0, 'intent_greet': 1.0}, {'prev_utter_greet': 1.0, 'intent_greet': 1.0}, {'prev_utter_ask_service_name': 1.0, 'intent_greet': 1.0}, {'intent_passbook': 1.0, 'prev_action_listen': 1.0}, {'intent_passbook': 1.0, 'prev_utter_help': 1.0}]\n",
      "2019-05-25 02:52:42 DEBUG    rasa_core.policies.memoization  - There is no memorised next action\n",
      "2019-05-25 02:52:42 DEBUG    rasa_core.policies.ensemble  - Predicted next action using policy_1_SklearnPolicy\n",
      "2019-05-25 02:52:42 DEBUG    rasa_core.processor  - Predicted next action 'action_listen' with prob 0.29.\n",
      "2019-05-25 02:52:42 DEBUG    rasa_core.processor  - Action 'action_listen' ended with events '[]'\n"
     ]
    },
    {
     "data": {
      "text/plain": [
       "[{'recipient_id': 'default', 'text': 'How can I help you?'}]"
      ]
     },
     "execution_count": 59,
     "metadata": {},
     "output_type": "execute_result"
    }
   ],
   "source": [
    "# asking question\n",
    "agent.handle_text('creditcard')"
   ]
  },
  {
   "cell_type": "code",
   "execution_count": 60,
   "metadata": {},
   "outputs": [
    {
     "name": "stderr",
     "output_type": "stream",
     "text": [
      "2019-05-25 02:52:46 DEBUG    rasa_core.tracker_store  - Recreating tracker for id 'default'\n",
      "2019-05-25 02:52:46 DEBUG    rasa_core.processor  - Received user message 'Can i draw cash from my credit card' with intent '{'name': 'cash_withdrawl', 'confidence': 0.8579171839795767}' and entities '[]'\n",
      "2019-05-25 02:52:46 DEBUG    rasa_core.processor  - Logged UserUtterance - tracker now has 12 events\n",
      "2019-05-25 02:52:46 DEBUG    rasa_core.processor  - Current slot values: \n",
      "\tresponse: None\n",
      "\tservice: None\n",
      "2019-05-25 02:52:46 DEBUG    rasa_core.policies.memoization  - Current tracker state [{'prev_utter_greet': 1.0, 'intent_greet': 1.0}, {'prev_utter_ask_service_name': 1.0, 'intent_greet': 1.0}, {'intent_passbook': 1.0, 'prev_action_listen': 1.0}, {'intent_passbook': 1.0, 'prev_utter_help': 1.0}, {'intent_cash_withdrawl': 1.0, 'prev_action_listen': 1.0}]\n",
      "2019-05-25 02:52:46 DEBUG    rasa_core.policies.memoization  - There is no memorised next action\n",
      "2019-05-25 02:52:46 DEBUG    rasa_core.policies.ensemble  - Predicted next action using policy_1_SklearnPolicy\n",
      "2019-05-25 02:52:46 DEBUG    rasa_core.processor  - Predicted next action 'utter_cash_withdrawl' with prob 0.11.\n",
      "2019-05-25 02:52:46 DEBUG    rasa_core.processor  - Action 'utter_cash_withdrawl' ended with events '[]'\n",
      "2019-05-25 02:52:46 DEBUG    rasa_core.processor  - Bot utterance 'BotUttered(text: The Card Member can use the Card to access emergency cash from teller counters at VWXYZ Bank branches or ATMs of select VWXYZ Bank locations or correspondent banks., data: {\n",
      "  \"elements\": null,\n",
      "  \"buttons\": null,\n",
      "  \"attachment\": null\n",
      "})'\n",
      "2019-05-25 02:52:46 DEBUG    rasa_core.policies.memoization  - Current tracker state [{'prev_utter_ask_service_name': 1.0, 'intent_greet': 1.0}, {'intent_passbook': 1.0, 'prev_action_listen': 1.0}, {'intent_passbook': 1.0, 'prev_utter_help': 1.0}, {'intent_cash_withdrawl': 1.0, 'prev_action_listen': 1.0}, {'intent_cash_withdrawl': 1.0, 'prev_utter_cash_withdrawl': 1.0}]\n",
      "2019-05-25 02:52:46 DEBUG    rasa_core.policies.memoization  - There is no memorised next action\n",
      "2019-05-25 02:52:46 DEBUG    rasa_core.policies.ensemble  - Predicted next action using policy_1_SklearnPolicy\n",
      "2019-05-25 02:52:46 DEBUG    rasa_core.processor  - Predicted next action 'utter_did_that_help' with prob 0.33.\n",
      "2019-05-25 02:52:46 DEBUG    rasa_core.processor  - Action 'utter_did_that_help' ended with events '[]'\n",
      "2019-05-25 02:52:46 DEBUG    rasa_core.processor  - Bot utterance 'BotUttered(text: Did that help you? Yes or No, data: {\n",
      "  \"elements\": null,\n",
      "  \"buttons\": null,\n",
      "  \"attachment\": null\n",
      "})'\n",
      "2019-05-25 02:52:46 DEBUG    rasa_core.policies.memoization  - Current tracker state [{'intent_passbook': 1.0, 'prev_action_listen': 1.0}, {'intent_passbook': 1.0, 'prev_utter_help': 1.0}, {'intent_cash_withdrawl': 1.0, 'prev_action_listen': 1.0}, {'intent_cash_withdrawl': 1.0, 'prev_utter_cash_withdrawl': 1.0}, {'intent_cash_withdrawl': 1.0, 'prev_utter_did_that_help': 1.0}]\n",
      "2019-05-25 02:52:46 DEBUG    rasa_core.policies.memoization  - There is no memorised next action\n",
      "2019-05-25 02:52:46 DEBUG    rasa_core.policies.ensemble  - Predicted next action using policy_1_SklearnPolicy\n",
      "2019-05-25 02:52:46 DEBUG    rasa_core.processor  - Predicted next action 'action_listen' with prob 0.30.\n",
      "2019-05-25 02:52:46 DEBUG    rasa_core.processor  - Action 'action_listen' ended with events '[]'\n"
     ]
    },
    {
     "data": {
      "text/plain": [
       "[{'recipient_id': 'default',\n",
       "  'text': 'The Card Member can use the Card to access emergency cash from teller counters at VWXYZ Bank branches or ATMs of select VWXYZ Bank locations or correspondent banks.'},\n",
       " {'recipient_id': 'default', 'text': 'Did that help you? Yes or No'}]"
      ]
     },
     "execution_count": 60,
     "metadata": {},
     "output_type": "execute_result"
    }
   ],
   "source": [
    "# asking question\n",
    "agent.handle_text('Can i draw cash from my credit card')"
   ]
  },
  {
   "cell_type": "code",
   "execution_count": 61,
   "metadata": {},
   "outputs": [
    {
     "name": "stderr",
     "output_type": "stream",
     "text": [
      "2019-05-25 02:52:49 DEBUG    rasa_core.tracker_store  - Recreating tracker for id 'default'\n",
      "2019-05-25 02:52:49 DEBUG    rasa_core.processor  - Received user message 'yes' with intent '{'name': 'affirm', 'confidence': 0.4074675189092886}' and entities '[]'\n",
      "2019-05-25 02:52:49 DEBUG    rasa_core.processor  - Logged UserUtterance - tracker now has 18 events\n",
      "2019-05-25 02:52:49 DEBUG    rasa_core.processor  - Current slot values: \n",
      "\tresponse: None\n",
      "\tservice: None\n",
      "2019-05-25 02:52:49 DEBUG    rasa_core.policies.memoization  - Current tracker state [{'intent_passbook': 1.0, 'prev_utter_help': 1.0}, {'intent_cash_withdrawl': 1.0, 'prev_action_listen': 1.0}, {'intent_cash_withdrawl': 1.0, 'prev_utter_cash_withdrawl': 1.0}, {'intent_cash_withdrawl': 1.0, 'prev_utter_did_that_help': 1.0}, {'intent_affirm': 1.0, 'prev_action_listen': 1.0}]\n",
      "2019-05-25 02:52:49 DEBUG    rasa_core.policies.memoization  - There is no memorised next action\n",
      "2019-05-25 02:52:49 DEBUG    rasa_core.policies.ensemble  - Predicted next action using policy_1_SklearnPolicy\n",
      "2019-05-25 02:52:49 DEBUG    rasa_core.processor  - Predicted next action 'utter_happy' with prob 0.28.\n",
      "2019-05-25 02:52:49 DEBUG    rasa_core.processor  - Action 'utter_happy' ended with events '[]'\n",
      "2019-05-25 02:52:49 DEBUG    rasa_core.processor  - Bot utterance 'BotUttered(text: Great carry on, data: {\n",
      "  \"elements\": null,\n",
      "  \"buttons\": null,\n",
      "  \"attachment\": null\n",
      "})'\n",
      "2019-05-25 02:52:49 DEBUG    rasa_core.policies.memoization  - Current tracker state [{'intent_cash_withdrawl': 1.0, 'prev_action_listen': 1.0}, {'intent_cash_withdrawl': 1.0, 'prev_utter_cash_withdrawl': 1.0}, {'intent_cash_withdrawl': 1.0, 'prev_utter_did_that_help': 1.0}, {'intent_affirm': 1.0, 'prev_action_listen': 1.0}, {'intent_affirm': 1.0, 'prev_utter_happy': 1.0}]\n",
      "2019-05-25 02:52:49 DEBUG    rasa_core.policies.memoization  - There is no memorised next action\n",
      "2019-05-25 02:52:49 DEBUG    rasa_core.policies.ensemble  - Predicted next action using policy_1_SklearnPolicy\n",
      "2019-05-25 02:52:49 DEBUG    rasa_core.processor  - Predicted next action 'action_listen' with prob 0.44.\n",
      "2019-05-25 02:52:49 DEBUG    rasa_core.processor  - Action 'action_listen' ended with events '[]'\n"
     ]
    },
    {
     "data": {
      "text/plain": [
       "[{'recipient_id': 'default', 'text': 'Great carry on'}]"
      ]
     },
     "execution_count": 61,
     "metadata": {},
     "output_type": "execute_result"
    }
   ],
   "source": [
    "# asking question\n",
    "agent.handle_text('yes')"
   ]
  },
  {
   "cell_type": "code",
   "execution_count": 62,
   "metadata": {
    "scrolled": true
   },
   "outputs": [
    {
     "name": "stderr",
     "output_type": "stream",
     "text": [
      "2019-05-25 02:52:51 DEBUG    rasa_core.tracker_store  - Recreating tracker for id 'default'\n",
      "2019-05-25 02:52:51 DEBUG    rasa_core.processor  - Received user message 'Bye' with intent '{'name': 'goodbye', 'confidence': 0.7747324316606874}' and entities '[]'\n",
      "2019-05-25 02:52:51 DEBUG    rasa_core.processor  - Logged UserUtterance - tracker now has 22 events\n",
      "2019-05-25 02:52:51 DEBUG    rasa_core.processor  - Current slot values: \n",
      "\tresponse: None\n",
      "\tservice: None\n",
      "2019-05-25 02:52:51 DEBUG    rasa_core.policies.memoization  - Current tracker state [{'intent_cash_withdrawl': 1.0, 'prev_utter_cash_withdrawl': 1.0}, {'intent_cash_withdrawl': 1.0, 'prev_utter_did_that_help': 1.0}, {'intent_affirm': 1.0, 'prev_action_listen': 1.0}, {'intent_affirm': 1.0, 'prev_utter_happy': 1.0}, {'prev_action_listen': 1.0, 'intent_goodbye': 1.0}]\n",
      "2019-05-25 02:52:51 DEBUG    rasa_core.policies.memoization  - There is no memorised next action\n",
      "2019-05-25 02:52:51 DEBUG    rasa_core.policies.ensemble  - Predicted next action using policy_1_SklearnPolicy\n",
      "2019-05-25 02:52:51 DEBUG    rasa_core.processor  - Predicted next action 'utter_goodbye' with prob 0.42.\n",
      "2019-05-25 02:52:51 DEBUG    rasa_core.processor  - Action 'utter_goodbye' ended with events '[]'\n",
      "2019-05-25 02:52:51 DEBUG    rasa_core.processor  - Bot utterance 'BotUttered(text: Have a Great Day Bye, data: {\n",
      "  \"elements\": null,\n",
      "  \"buttons\": null,\n",
      "  \"attachment\": null\n",
      "})'\n",
      "2019-05-25 02:52:51 DEBUG    rasa_core.policies.memoization  - Current tracker state [{'intent_cash_withdrawl': 1.0, 'prev_utter_did_that_help': 1.0}, {'intent_affirm': 1.0, 'prev_action_listen': 1.0}, {'intent_affirm': 1.0, 'prev_utter_happy': 1.0}, {'prev_action_listen': 1.0, 'intent_goodbye': 1.0}, {'intent_goodbye': 1.0, 'prev_utter_goodbye': 1.0}]\n",
      "2019-05-25 02:52:51 DEBUG    rasa_core.policies.memoization  - There is no memorised next action\n",
      "2019-05-25 02:52:51 DEBUG    rasa_core.policies.ensemble  - Predicted next action using policy_1_SklearnPolicy\n",
      "2019-05-25 02:52:51 DEBUG    rasa_core.processor  - Predicted next action 'action_listen' with prob 0.38.\n",
      "2019-05-25 02:52:51 DEBUG    rasa_core.processor  - Action 'action_listen' ended with events '[]'\n"
     ]
    },
    {
     "data": {
      "text/plain": [
       "[{'recipient_id': 'default', 'text': 'Have a Great Day Bye'}]"
      ]
     },
     "execution_count": 62,
     "metadata": {},
     "output_type": "execute_result"
    }
   ],
   "source": [
    "# asking question\n",
    "agent.handle_text('Bye')"
   ]
  },
  {
   "cell_type": "markdown",
   "metadata": {},
   "source": [
    "#4 CONVERSATION - HANDLING FALL BACK"
   ]
  },
  {
   "cell_type": "code",
   "execution_count": 63,
   "metadata": {},
   "outputs": [
    {
     "name": "stderr",
     "output_type": "stream",
     "text": [
      "2019-05-25 02:52:58 DEBUG    rasa_core.tracker_store  - Recreating tracker for id 'default'\n",
      "2019-05-25 02:52:58 DEBUG    rasa_core.processor  - Received user message 'HELLO' with intent '{'name': 'greet', 'confidence': 0.39561158040148703}' and entities '[]'\n",
      "2019-05-25 02:52:58 DEBUG    rasa_core.processor  - Logged UserUtterance - tracker now has 26 events\n",
      "2019-05-25 02:52:58 DEBUG    rasa_core.processor  - Current slot values: \n",
      "\tresponse: None\n",
      "\tservice: None\n",
      "2019-05-25 02:52:58 DEBUG    rasa_core.policies.memoization  - Current tracker state [{'intent_affirm': 1.0, 'prev_action_listen': 1.0}, {'intent_affirm': 1.0, 'prev_utter_happy': 1.0}, {'prev_action_listen': 1.0, 'intent_goodbye': 1.0}, {'intent_goodbye': 1.0, 'prev_utter_goodbye': 1.0}, {'prev_action_listen': 1.0, 'intent_greet': 1.0}]\n",
      "2019-05-25 02:52:58 DEBUG    rasa_core.policies.memoization  - There is no memorised next action\n",
      "2019-05-25 02:52:58 DEBUG    rasa_core.policies.ensemble  - Predicted next action using policy_1_SklearnPolicy\n",
      "2019-05-25 02:52:58 DEBUG    rasa_core.processor  - Predicted next action 'utter_greet' with prob 0.30.\n",
      "2019-05-25 02:52:58 DEBUG    rasa_core.processor  - Action 'utter_greet' ended with events '[]'\n",
      "2019-05-25 02:52:58 DEBUG    rasa_core.processor  - Bot utterance 'BotUttered(text: Hi I am Emilia, data: {\n",
      "  \"elements\": null,\n",
      "  \"buttons\": null,\n",
      "  \"attachment\": null\n",
      "})'\n",
      "2019-05-25 02:52:58 DEBUG    rasa_core.policies.memoization  - Current tracker state [{'intent_affirm': 1.0, 'prev_utter_happy': 1.0}, {'prev_action_listen': 1.0, 'intent_goodbye': 1.0}, {'intent_goodbye': 1.0, 'prev_utter_goodbye': 1.0}, {'prev_action_listen': 1.0, 'intent_greet': 1.0}, {'prev_utter_greet': 1.0, 'intent_greet': 1.0}]\n",
      "2019-05-25 02:52:58 DEBUG    rasa_core.policies.memoization  - There is no memorised next action\n",
      "2019-05-25 02:52:58 DEBUG    rasa_core.policies.ensemble  - Predicted next action using policy_1_SklearnPolicy\n",
      "2019-05-25 02:52:58 DEBUG    rasa_core.processor  - Predicted next action 'utter_ask_service_name' with prob 0.25.\n",
      "2019-05-25 02:52:58 DEBUG    rasa_core.processor  - Action 'utter_ask_service_name' ended with events '[]'\n",
      "2019-05-25 02:52:58 DEBUG    rasa_core.processor  - Bot utterance 'BotUttered(text: What service can I help you with today - Credit Card or Savings Account?, data: {\n",
      "  \"elements\": null,\n",
      "  \"buttons\": null,\n",
      "  \"attachment\": null\n",
      "})'\n",
      "2019-05-25 02:52:58 DEBUG    rasa_core.policies.memoization  - Current tracker state [{'prev_action_listen': 1.0, 'intent_goodbye': 1.0}, {'intent_goodbye': 1.0, 'prev_utter_goodbye': 1.0}, {'prev_action_listen': 1.0, 'intent_greet': 1.0}, {'prev_utter_greet': 1.0, 'intent_greet': 1.0}, {'prev_utter_ask_service_name': 1.0, 'intent_greet': 1.0}]\n",
      "2019-05-25 02:52:58 DEBUG    rasa_core.policies.memoization  - There is no memorised next action\n",
      "2019-05-25 02:52:58 DEBUG    rasa_core.policies.ensemble  - Predicted next action using policy_1_SklearnPolicy\n",
      "2019-05-25 02:52:58 DEBUG    rasa_core.processor  - Predicted next action 'action_listen' with prob 0.26.\n",
      "2019-05-25 02:52:58 DEBUG    rasa_core.processor  - Action 'action_listen' ended with events '[]'\n"
     ]
    },
    {
     "data": {
      "text/plain": [
       "[{'recipient_id': 'default', 'text': 'Hi I am Emilia'},\n",
       " {'recipient_id': 'default',\n",
       "  'text': 'What service can I help you with today - Credit Card or Savings Account?'}]"
      ]
     },
     "execution_count": 63,
     "metadata": {},
     "output_type": "execute_result"
    }
   ],
   "source": [
    "# asking question\n",
    "agent.handle_text('HELLO')"
   ]
  },
  {
   "cell_type": "code",
   "execution_count": 64,
   "metadata": {},
   "outputs": [
    {
     "name": "stderr",
     "output_type": "stream",
     "text": [
      "2019-05-25 02:53:02 DEBUG    rasa_core.tracker_store  - Recreating tracker for id 'default'\n",
      "2019-05-25 02:53:02 DEBUG    rasa_core.processor  - Received user message 'credit card' with intent '{'name': 'withdraw', 'confidence': 0.9286158438606018}' and entities '[]'\n",
      "2019-05-25 02:53:02 DEBUG    rasa_core.processor  - Logged UserUtterance - tracker now has 32 events\n",
      "2019-05-25 02:53:02 DEBUG    rasa_core.processor  - Current slot values: \n",
      "\tresponse: None\n",
      "\tservice: None\n",
      "2019-05-25 02:53:02 DEBUG    rasa_core.policies.memoization  - Current tracker state [{'intent_goodbye': 1.0, 'prev_utter_goodbye': 1.0}, {'prev_action_listen': 1.0, 'intent_greet': 1.0}, {'prev_utter_greet': 1.0, 'intent_greet': 1.0}, {'prev_utter_ask_service_name': 1.0, 'intent_greet': 1.0}, {'prev_action_listen': 1.0, 'intent_withdraw': 1.0}]\n",
      "2019-05-25 02:53:02 DEBUG    rasa_core.policies.memoization  - There is no memorised next action\n",
      "2019-05-25 02:53:02 DEBUG    rasa_core.policies.ensemble  - Predicted next action using policy_1_SklearnPolicy\n",
      "2019-05-25 02:53:02 DEBUG    rasa_core.processor  - Predicted next action 'utter_help' with prob 0.26.\n",
      "2019-05-25 02:53:02 DEBUG    rasa_core.processor  - Action 'utter_help' ended with events '[]'\n",
      "2019-05-25 02:53:02 DEBUG    rasa_core.processor  - Bot utterance 'BotUttered(text: How can I help you?, data: {\n",
      "  \"elements\": null,\n",
      "  \"buttons\": null,\n",
      "  \"attachment\": null\n",
      "})'\n",
      "2019-05-25 02:53:02 DEBUG    rasa_core.policies.memoization  - Current tracker state [{'prev_action_listen': 1.0, 'intent_greet': 1.0}, {'prev_utter_greet': 1.0, 'intent_greet': 1.0}, {'prev_utter_ask_service_name': 1.0, 'intent_greet': 1.0}, {'prev_action_listen': 1.0, 'intent_withdraw': 1.0}, {'prev_utter_help': 1.0, 'intent_withdraw': 1.0}]\n",
      "2019-05-25 02:53:02 DEBUG    rasa_core.policies.memoization  - There is no memorised next action\n",
      "2019-05-25 02:53:02 DEBUG    rasa_core.policies.ensemble  - Predicted next action using policy_1_SklearnPolicy\n",
      "2019-05-25 02:53:02 DEBUG    rasa_core.processor  - Predicted next action 'action_listen' with prob 0.28.\n",
      "2019-05-25 02:53:02 DEBUG    rasa_core.processor  - Action 'action_listen' ended with events '[]'\n"
     ]
    },
    {
     "data": {
      "text/plain": [
       "[{'recipient_id': 'default', 'text': 'How can I help you?'}]"
      ]
     },
     "execution_count": 64,
     "metadata": {},
     "output_type": "execute_result"
    }
   ],
   "source": [
    "# asking question\n",
    "agent.handle_text('credit card')"
   ]
  },
  {
   "cell_type": "code",
   "execution_count": 65,
   "metadata": {
    "scrolled": true
   },
   "outputs": [
    {
     "name": "stderr",
     "output_type": "stream",
     "text": [
      "2019-05-25 02:53:04 DEBUG    rasa_core.tracker_store  - Recreating tracker for id 'default'\n",
      "2019-05-25 02:53:04 DEBUG    rasa_core.processor  - Received user message 'Can you book a hotel for me?' with intent '{'name': 'cheque_book_cost', 'confidence': 0.26777043383266647}' and entities '[]'\n",
      "2019-05-25 02:53:04 DEBUG    rasa_core.processor  - Logged UserUtterance - tracker now has 36 events\n",
      "2019-05-25 02:53:04 DEBUG    rasa_core.processor  - Current slot values: \n",
      "\tresponse: None\n",
      "\tservice: None\n",
      "2019-05-25 02:53:04 DEBUG    rasa_core.policies.memoization  - Current tracker state [{'prev_utter_greet': 1.0, 'intent_greet': 1.0}, {'prev_utter_ask_service_name': 1.0, 'intent_greet': 1.0}, {'prev_action_listen': 1.0, 'intent_withdraw': 1.0}, {'prev_utter_help': 1.0, 'intent_withdraw': 1.0}, {'intent_cheque_book_cost': 1.0, 'prev_action_listen': 1.0}]\n",
      "2019-05-25 02:53:04 DEBUG    rasa_core.policies.memoization  - There is no memorised next action\n",
      "2019-05-25 02:53:04 DEBUG    rasa_core.policies.fallback  - NLU confidence 0.26777043383266647 is lower than NLU threshold 0.3. \n",
      "2019-05-25 02:53:04 DEBUG    rasa_core.policies.ensemble  - Predicted next action using policy_2_FallbackPolicy\n",
      "2019-05-25 02:53:04 DEBUG    rasa_core.processor  - Predicted next action 'utter_default_fallback' with prob 1.00.\n",
      "2019-05-25 02:53:04 DEBUG    rasa_core.processor  - Action 'utter_default_fallback' ended with events '[]'\n",
      "2019-05-25 02:53:04 DEBUG    rasa_core.processor  - Bot utterance 'BotUttered(text: Sorry, I did not get that. Can you reach out to the customer care number instead - 1800-xxx-xxx., data: {\n",
      "  \"elements\": null,\n",
      "  \"buttons\": null,\n",
      "  \"attachment\": null\n",
      "})'\n",
      "2019-05-25 02:53:04 DEBUG    rasa_core.policies.memoization  - Current tracker state [{'prev_utter_ask_service_name': 1.0, 'intent_greet': 1.0}, {'prev_action_listen': 1.0, 'intent_withdraw': 1.0}, {'prev_utter_help': 1.0, 'intent_withdraw': 1.0}, {'intent_cheque_book_cost': 1.0, 'prev_action_listen': 1.0}, {'prev_utter_default_fallback': 1.0, 'intent_cheque_book_cost': 1.0}]\n",
      "2019-05-25 02:53:04 DEBUG    rasa_core.policies.memoization  - There is no memorised next action\n",
      "2019-05-25 02:53:04 DEBUG    rasa_core.policies.ensemble  - Predicted next action using policy_2_FallbackPolicy\n",
      "2019-05-25 02:53:04 DEBUG    rasa_core.processor  - Predicted next action 'action_listen' with prob 1.00.\n",
      "2019-05-25 02:53:04 DEBUG    rasa_core.processor  - Action 'action_listen' ended with events '[]'\n"
     ]
    },
    {
     "data": {
      "text/plain": [
       "[{'recipient_id': 'default',\n",
       "  'text': 'Sorry, I did not get that. Can you reach out to the customer care number instead - 1800-xxx-xxx.'}]"
      ]
     },
     "execution_count": 65,
     "metadata": {},
     "output_type": "execute_result"
    }
   ],
   "source": [
    "# asking question\n",
    "agent.handle_text('Can you book a hotel for me?')"
   ]
  },
  {
   "cell_type": "code",
   "execution_count": 66,
   "metadata": {},
   "outputs": [
    {
     "name": "stderr",
     "output_type": "stream",
     "text": [
      "2019-05-25 02:53:28 DEBUG    rasa_core.tracker_store  - Recreating tracker for id 'default'\n",
      "2019-05-25 02:53:28 DEBUG    rasa_core.processor  - Received user message 'Can you book movie tickets for me?' with intent '{'name': 'new_cheque_book', 'confidence': 0.30655125622717067}' and entities '[]'\n",
      "2019-05-25 02:53:28 DEBUG    rasa_core.processor  - Logged UserUtterance - tracker now has 40 events\n",
      "2019-05-25 02:53:28 DEBUG    rasa_core.processor  - Current slot values: \n",
      "\tresponse: None\n",
      "\tservice: None\n",
      "2019-05-25 02:53:28 DEBUG    rasa_core.policies.memoization  - Current tracker state [{'prev_action_listen': 1.0, 'intent_withdraw': 1.0}, {'prev_utter_help': 1.0, 'intent_withdraw': 1.0}, {'intent_cheque_book_cost': 1.0, 'prev_action_listen': 1.0}, {'prev_utter_default_fallback': 1.0, 'intent_cheque_book_cost': 1.0}, {'intent_new_cheque_book': 1.0, 'prev_action_listen': 1.0}]\n",
      "2019-05-25 02:53:28 DEBUG    rasa_core.policies.memoization  - There is no memorised next action\n",
      "2019-05-25 02:53:28 DEBUG    rasa_core.policies.ensemble  - Action 'action_listen' was predicted after a user message using policy_1_SklearnPolicy. Predicting fallback action: utter_default_fallback\n",
      "2019-05-25 02:53:28 DEBUG    rasa_core.policies.ensemble  - Predicted next action using policy_2_FallbackPolicy\n",
      "2019-05-25 02:53:28 DEBUG    rasa_core.processor  - Predicted next action 'utter_default_fallback' with prob 1.00.\n",
      "2019-05-25 02:53:28 DEBUG    rasa_core.processor  - Action 'utter_default_fallback' ended with events '[]'\n",
      "2019-05-25 02:53:28 DEBUG    rasa_core.processor  - Bot utterance 'BotUttered(text: Sorry, I did not get that. Can you reach out to the customer care number instead - 1800-xxx-xxx., data: {\n",
      "  \"elements\": null,\n",
      "  \"buttons\": null,\n",
      "  \"attachment\": null\n",
      "})'\n",
      "2019-05-25 02:53:28 DEBUG    rasa_core.policies.memoization  - Current tracker state [{'prev_utter_help': 1.0, 'intent_withdraw': 1.0}, {'intent_cheque_book_cost': 1.0, 'prev_action_listen': 1.0}, {'prev_utter_default_fallback': 1.0, 'intent_cheque_book_cost': 1.0}, {'intent_new_cheque_book': 1.0, 'prev_action_listen': 1.0}, {'prev_utter_default_fallback': 1.0, 'intent_new_cheque_book': 1.0}]\n",
      "2019-05-25 02:53:28 DEBUG    rasa_core.policies.memoization  - There is no memorised next action\n",
      "2019-05-25 02:53:28 DEBUG    rasa_core.policies.ensemble  - Predicted next action using policy_2_FallbackPolicy\n",
      "2019-05-25 02:53:28 DEBUG    rasa_core.processor  - Predicted next action 'action_listen' with prob 1.00.\n",
      "2019-05-25 02:53:28 DEBUG    rasa_core.processor  - Action 'action_listen' ended with events '[]'\n"
     ]
    },
    {
     "data": {
      "text/plain": [
       "[{'recipient_id': 'default',\n",
       "  'text': 'Sorry, I did not get that. Can you reach out to the customer care number instead - 1800-xxx-xxx.'}]"
      ]
     },
     "execution_count": 66,
     "metadata": {},
     "output_type": "execute_result"
    }
   ],
   "source": [
    "# asking question\n",
    "agent.handle_text('Can you book movie tickets for me?')"
   ]
  },
  {
   "cell_type": "code",
   "execution_count": 67,
   "metadata": {},
   "outputs": [
    {
     "name": "stderr",
     "output_type": "stream",
     "text": [
      "2019-05-25 02:53:57 DEBUG    rasa_core.tracker_store  - Recreating tracker for id 'default'\n",
      "2019-05-25 02:53:57 DEBUG    rasa_core.processor  - Received user message 'Can you tell me the status of my last order?' with intent '{'name': 'lost_card', 'confidence': 0.07519334360297612}' and entities '[]'\n",
      "2019-05-25 02:53:57 DEBUG    rasa_core.processor  - Logged UserUtterance - tracker now has 44 events\n",
      "2019-05-25 02:53:57 DEBUG    rasa_core.processor  - Current slot values: \n",
      "\tresponse: None\n",
      "\tservice: None\n",
      "2019-05-25 02:53:57 DEBUG    rasa_core.policies.memoization  - Current tracker state [{'intent_cheque_book_cost': 1.0, 'prev_action_listen': 1.0}, {'prev_utter_default_fallback': 1.0, 'intent_cheque_book_cost': 1.0}, {'intent_new_cheque_book': 1.0, 'prev_action_listen': 1.0}, {'prev_utter_default_fallback': 1.0, 'intent_new_cheque_book': 1.0}, {'intent_lost_card': 1.0, 'prev_action_listen': 1.0}]\n",
      "2019-05-25 02:53:57 DEBUG    rasa_core.policies.memoization  - There is no memorised next action\n",
      "2019-05-25 02:53:57 DEBUG    rasa_core.policies.fallback  - NLU confidence 0.07519334360297612 is lower than NLU threshold 0.3. \n",
      "2019-05-25 02:53:57 DEBUG    rasa_core.policies.ensemble  - Predicted next action using policy_2_FallbackPolicy\n",
      "2019-05-25 02:53:57 DEBUG    rasa_core.processor  - Predicted next action 'utter_default_fallback' with prob 1.00.\n",
      "2019-05-25 02:53:57 DEBUG    rasa_core.processor  - Action 'utter_default_fallback' ended with events '[]'\n",
      "2019-05-25 02:53:57 DEBUG    rasa_core.processor  - Bot utterance 'BotUttered(text: Sorry, I did not get that. Can you reach out to the customer care number instead - 1800-xxx-xxx., data: {\n",
      "  \"elements\": null,\n",
      "  \"buttons\": null,\n",
      "  \"attachment\": null\n",
      "})'\n",
      "2019-05-25 02:53:57 DEBUG    rasa_core.policies.memoization  - Current tracker state [{'prev_utter_default_fallback': 1.0, 'intent_cheque_book_cost': 1.0}, {'intent_new_cheque_book': 1.0, 'prev_action_listen': 1.0}, {'prev_utter_default_fallback': 1.0, 'intent_new_cheque_book': 1.0}, {'intent_lost_card': 1.0, 'prev_action_listen': 1.0}, {'prev_utter_default_fallback': 1.0, 'intent_lost_card': 1.0}]\n",
      "2019-05-25 02:53:57 DEBUG    rasa_core.policies.memoization  - There is no memorised next action\n",
      "2019-05-25 02:53:57 DEBUG    rasa_core.policies.ensemble  - Predicted next action using policy_2_FallbackPolicy\n",
      "2019-05-25 02:53:57 DEBUG    rasa_core.processor  - Predicted next action 'action_listen' with prob 1.00.\n",
      "2019-05-25 02:53:57 DEBUG    rasa_core.processor  - Action 'action_listen' ended with events '[]'\n"
     ]
    },
    {
     "data": {
      "text/plain": [
       "[{'recipient_id': 'default',\n",
       "  'text': 'Sorry, I did not get that. Can you reach out to the customer care number instead - 1800-xxx-xxx.'}]"
      ]
     },
     "execution_count": 67,
     "metadata": {},
     "output_type": "execute_result"
    }
   ],
   "source": [
    "# asking question\n",
    "agent.handle_text('Can you tell me the status of my last order?')"
   ]
  },
  {
   "cell_type": "code",
   "execution_count": 68,
   "metadata": {},
   "outputs": [
    {
     "name": "stderr",
     "output_type": "stream",
     "text": [
      "2019-05-25 02:54:21 DEBUG    rasa_core.tracker_store  - Recreating tracker for id 'default'\n",
      "2019-05-25 02:54:21 DEBUG    rasa_core.processor  - Received user message 'I want a new credit card' with intent '{'name': 'new_credit_card', 'confidence': 0.7267325606670344}' and entities '[]'\n",
      "2019-05-25 02:54:21 DEBUG    rasa_core.processor  - Logged UserUtterance - tracker now has 48 events\n",
      "2019-05-25 02:54:21 DEBUG    rasa_core.processor  - Current slot values: \n",
      "\tresponse: None\n",
      "\tservice: None\n",
      "2019-05-25 02:54:21 DEBUG    rasa_core.policies.memoization  - Current tracker state [{'intent_new_cheque_book': 1.0, 'prev_action_listen': 1.0}, {'prev_utter_default_fallback': 1.0, 'intent_new_cheque_book': 1.0}, {'intent_lost_card': 1.0, 'prev_action_listen': 1.0}, {'prev_utter_default_fallback': 1.0, 'intent_lost_card': 1.0}, {'intent_new_credit_card': 1.0, 'prev_action_listen': 1.0}]\n",
      "2019-05-25 02:54:21 DEBUG    rasa_core.policies.memoization  - There is no memorised next action\n",
      "2019-05-25 02:54:21 DEBUG    rasa_core.policies.ensemble  - Predicted next action using policy_1_SklearnPolicy\n",
      "2019-05-25 02:54:21 DEBUG    rasa_core.processor  - Predicted next action 'utter_new_credit_card' with prob 0.15.\n",
      "2019-05-25 02:54:21 DEBUG    rasa_core.processor  - Action 'utter_new_credit_card' ended with events '[]'\n",
      "2019-05-25 02:54:21 DEBUG    rasa_core.processor  - Bot utterance 'BotUttered(text: To apply for a new credit card, please visit vwxyz.com or call The VWXYZ Bank 24-Hour Customer Care Centre at 1800-XXX-XXXX or visit the nearest branch, data: {\n",
      "  \"elements\": null,\n",
      "  \"buttons\": null,\n",
      "  \"attachment\": null\n",
      "})'\n",
      "2019-05-25 02:54:21 DEBUG    rasa_core.policies.memoization  - Current tracker state [{'prev_utter_default_fallback': 1.0, 'intent_new_cheque_book': 1.0}, {'intent_lost_card': 1.0, 'prev_action_listen': 1.0}, {'prev_utter_default_fallback': 1.0, 'intent_lost_card': 1.0}, {'intent_new_credit_card': 1.0, 'prev_action_listen': 1.0}, {'prev_utter_new_credit_card': 1.0, 'intent_new_credit_card': 1.0}]\n",
      "2019-05-25 02:54:21 DEBUG    rasa_core.policies.memoization  - There is no memorised next action\n",
      "2019-05-25 02:54:21 DEBUG    rasa_core.policies.ensemble  - Predicted next action using policy_1_SklearnPolicy\n",
      "2019-05-25 02:54:21 DEBUG    rasa_core.processor  - Predicted next action 'utter_did_that_help' with prob 0.14.\n",
      "2019-05-25 02:54:21 DEBUG    rasa_core.processor  - Action 'utter_did_that_help' ended with events '[]'\n",
      "2019-05-25 02:54:21 DEBUG    rasa_core.processor  - Bot utterance 'BotUttered(text: Did that help you? Yes or No, data: {\n",
      "  \"elements\": null,\n",
      "  \"buttons\": null,\n",
      "  \"attachment\": null\n",
      "})'\n",
      "2019-05-25 02:54:21 DEBUG    rasa_core.policies.memoization  - Current tracker state [{'intent_lost_card': 1.0, 'prev_action_listen': 1.0}, {'prev_utter_default_fallback': 1.0, 'intent_lost_card': 1.0}, {'intent_new_credit_card': 1.0, 'prev_action_listen': 1.0}, {'prev_utter_new_credit_card': 1.0, 'intent_new_credit_card': 1.0}, {'intent_new_credit_card': 1.0, 'prev_utter_did_that_help': 1.0}]\n",
      "2019-05-25 02:54:21 DEBUG    rasa_core.policies.memoization  - There is no memorised next action\n",
      "2019-05-25 02:54:21 DEBUG    rasa_core.policies.ensemble  - Predicted next action using policy_1_SklearnPolicy\n",
      "2019-05-25 02:54:21 DEBUG    rasa_core.processor  - Predicted next action 'action_listen' with prob 0.25.\n",
      "2019-05-25 02:54:22 DEBUG    rasa_core.processor  - Action 'action_listen' ended with events '[]'\n"
     ]
    },
    {
     "data": {
      "text/plain": [
       "[{'recipient_id': 'default',\n",
       "  'text': 'To apply for a new credit card, please visit vwxyz.com or call The VWXYZ Bank 24-Hour Customer Care Centre at 1800-XXX-XXXX or visit the nearest branch'},\n",
       " {'recipient_id': 'default', 'text': 'Did that help you? Yes or No'}]"
      ]
     },
     "execution_count": 68,
     "metadata": {},
     "output_type": "execute_result"
    }
   ],
   "source": [
    "# asking question\n",
    "agent.handle_text('I want a new credit card')"
   ]
  },
  {
   "cell_type": "code",
   "execution_count": 69,
   "metadata": {},
   "outputs": [
    {
     "name": "stderr",
     "output_type": "stream",
     "text": [
      "2019-05-25 02:54:41 DEBUG    rasa_core.tracker_store  - Recreating tracker for id 'default'\n",
      "2019-05-25 02:54:41 DEBUG    rasa_core.processor  - Received user message 'Bye' with intent '{'name': 'goodbye', 'confidence': 0.7747324316606874}' and entities '[]'\n",
      "2019-05-25 02:54:41 DEBUG    rasa_core.processor  - Logged UserUtterance - tracker now has 54 events\n",
      "2019-05-25 02:54:41 DEBUG    rasa_core.processor  - Current slot values: \n",
      "\tresponse: None\n",
      "\tservice: None\n",
      "2019-05-25 02:54:41 DEBUG    rasa_core.policies.memoization  - Current tracker state [{'prev_utter_default_fallback': 1.0, 'intent_lost_card': 1.0}, {'intent_new_credit_card': 1.0, 'prev_action_listen': 1.0}, {'prev_utter_new_credit_card': 1.0, 'intent_new_credit_card': 1.0}, {'intent_new_credit_card': 1.0, 'prev_utter_did_that_help': 1.0}, {'prev_action_listen': 1.0, 'intent_goodbye': 1.0}]\n",
      "2019-05-25 02:54:41 DEBUG    rasa_core.policies.memoization  - There is no memorised next action\n",
      "2019-05-25 02:54:41 DEBUG    rasa_core.policies.ensemble  - Predicted next action using policy_1_SklearnPolicy\n",
      "2019-05-25 02:54:41 DEBUG    rasa_core.processor  - Predicted next action 'utter_happy' with prob 0.17.\n",
      "2019-05-25 02:54:41 DEBUG    rasa_core.processor  - Action 'utter_happy' ended with events '[]'\n",
      "2019-05-25 02:54:41 DEBUG    rasa_core.processor  - Bot utterance 'BotUttered(text: Great carry on, data: {\n",
      "  \"elements\": null,\n",
      "  \"buttons\": null,\n",
      "  \"attachment\": null\n",
      "})'\n",
      "2019-05-25 02:54:41 DEBUG    rasa_core.policies.memoization  - Current tracker state [{'intent_new_credit_card': 1.0, 'prev_action_listen': 1.0}, {'prev_utter_new_credit_card': 1.0, 'intent_new_credit_card': 1.0}, {'intent_new_credit_card': 1.0, 'prev_utter_did_that_help': 1.0}, {'prev_action_listen': 1.0, 'intent_goodbye': 1.0}, {'prev_utter_happy': 1.0, 'intent_goodbye': 1.0}]\n",
      "2019-05-25 02:54:41 DEBUG    rasa_core.policies.memoization  - There is no memorised next action\n",
      "2019-05-25 02:54:41 DEBUG    rasa_core.policies.ensemble  - Predicted next action using policy_1_SklearnPolicy\n",
      "2019-05-25 02:54:41 DEBUG    rasa_core.processor  - Predicted next action 'action_listen' with prob 0.42.\n",
      "2019-05-25 02:54:41 DEBUG    rasa_core.processor  - Action 'action_listen' ended with events '[]'\n"
     ]
    },
    {
     "data": {
      "text/plain": [
       "[{'recipient_id': 'default', 'text': 'Great carry on'}]"
      ]
     },
     "execution_count": 69,
     "metadata": {},
     "output_type": "execute_result"
    }
   ],
   "source": [
    "# asking question\n",
    "agent.handle_text('Bye')"
   ]
  },
  {
   "cell_type": "code",
   "execution_count": 41,
   "metadata": {},
   "outputs": [
    {
     "ename": "NameError",
     "evalue": "name 'stop' is not defined",
     "output_type": "error",
     "traceback": [
      "\u001b[1;31m---------------------------------------------------------------------------\u001b[0m",
      "\u001b[1;31mNameError\u001b[0m                                 Traceback (most recent call last)",
      "\u001b[1;32m<ipython-input-41-4f76a9dad686>\u001b[0m in \u001b[0;36m<module>\u001b[1;34m\u001b[0m\n\u001b[1;32m----> 1\u001b[1;33m \u001b[0mstop\u001b[0m\u001b[1;33m\u001b[0m\u001b[1;33m\u001b[0m\u001b[0m\n\u001b[0m",
      "\u001b[1;31mNameError\u001b[0m: name 'stop' is not defined"
     ]
    }
   ],
   "source": [
    "stop"
   ]
  },
  {
   "cell_type": "code",
   "execution_count": null,
   "metadata": {},
   "outputs": [],
   "source": [
    "training_data_file = './data/stories.md'\n",
    "model_path = './models/dialogue'\n",
    "agent = Agent(\"domain.yml\",policies=\"policies.yml\")\n",
    "training_data = agent.load_data(training_data_file)\n",
    "agent.train(\n",
    "    training_data,\n",
    "    \n",
    ")\n",
    "\n",
    "agent.persist(model_path)"
   ]
  },
  {
   "cell_type": "code",
   "execution_count": null,
   "metadata": {},
   "outputs": [],
   "source": [
    "# Function\n",
    "#------------\n",
    "def train_dialog(dialog_training_data_file, domain_file, path_to_model = 'models/dialogue'):\n",
    "    logging.basicConfig(level='INFO')\n",
    "    agent = Agent(domain_file,\n",
    "              policies=[MemoizationPolicy(max_history=1)])\n",
    "    training_data = agent.load_data(dialog_training_data_file)\n",
    "    agent.train(\n",
    "        training_data,\n",
    "        augmentation_factor=50,\n",
    "        epochs=200,\n",
    "        batch_size=10,\n",
    "        validation_split=0.2)\n",
    "    agent.persist(path_to_model)"
   ]
  },
  {
   "cell_type": "code",
   "execution_count": null,
   "metadata": {},
   "outputs": [],
   "source": [
    "# Train\n",
    "#--------\n",
    "train('data/stories.md', 'domain.yml', 'models/dialogue')"
   ]
  },
  {
   "cell_type": "code",
   "execution_count": null,
   "metadata": {},
   "outputs": [],
   "source": [
    "from __future__ import absolute_import\n",
    "from __future__ import division\n",
    "from __future__ import print_function\n",
    "from __future__ import unicode_literals\n",
    "import logging\n",
    "from rasa_core import utils, train\n",
    "#from rasa_core.training import online\n",
    "#from rasa.core.interpreter import NaturalLanguageInterpreter\n",
    "logger = logging.getLogger(__name__)\n",
    "def train_agent(interpreter):\n",
    "    return train.train_dialog_model(domain_file=\"domain.yml\",\n",
    "                                    stories_file=\"data/stries.md\",\n",
    "                                    output_path=\"models/dialog\",\n",
    "                                    nlu_model_path=interpreter,\n",
    "                                    endpoints=\"endpoints.yml\",\n",
    "                                    max_history=2,\n",
    "                                    kwargs={\"batch_size\":50,\n",
    "                                            \"epochs\":200,\n",
    "                                            \"max_training_samples\":300\n",
    "                                           })\n",
    "if __name__ == '__main__':\n",
    "    utils.configure_colored_logging(loglevel='DEBUG')\n",
    "    nlu_model_path = \"./models/nlu/default/chat\"\n",
    "    #interpreter = NaturalLanguageInterpreter.create(nlu_model_path)\n",
    "    agent = train_agent(interpreter)\n",
    "    online.serve_agent(agent)"
   ]
  }
 ],
 "metadata": {
  "kernelspec": {
   "display_name": "Python 3",
   "language": "python",
   "name": "python3"
  },
  "language_info": {
   "codemirror_mode": {
    "name": "ipython",
    "version": 3
   },
   "file_extension": ".py",
   "mimetype": "text/x-python",
   "name": "python",
   "nbconvert_exporter": "python",
   "pygments_lexer": "ipython3",
   "version": "3.7.4"
  }
 },
 "nbformat": 4,
 "nbformat_minor": 2
}
